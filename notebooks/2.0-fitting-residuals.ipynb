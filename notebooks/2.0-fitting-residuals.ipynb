{
 "cells": [
  {
   "cell_type": "markdown",
   "metadata": {},
   "source": [
    "# Residual fitting\n",
    "\n",
    "This notebook trains a neural network to fit residuals left after a component model is trained. The ensemble model here takes a prediction distribution from a single component model and tries to fit the error using the actual data and the peak of the distribution."
   ]
  },
  {
   "cell_type": "code",
   "execution_count": 1,
   "metadata": {
    "collapsed": true
   },
   "outputs": [],
   "source": [
    "%load_ext autoreload\n",
    "%autoreload 2\n",
    "%matplotlib inline\n",
    "\n",
    "import sys\n",
    "sys.path.append(\"../src\")"
   ]
  },
  {
   "cell_type": "code",
   "execution_count": 2,
   "metadata": {},
   "outputs": [
    {
     "name": "stderr",
     "output_type": "stream",
     "text": [
      "Using Theano backend.\n"
     ]
    }
   ],
   "source": [
    "import matplotlib.pyplot as plt\n",
    "import numpy as np\n",
    "import pandas as pd\n",
    "import data\n",
    "import utils\n",
    "import losses\n",
    "import pymmwr\n",
    "\n",
    "from functools import partial, reduce\n",
    "\n",
    "from keras.layers import (Activation, Dense, Dropout, Embedding, Flatten, Merge, Reshape)\n",
    "from keras.models import Sequential\n",
    "from keras.callbacks import EarlyStopping\n",
    "import keras.backend as K\n",
    "from sklearn.model_selection import train_test_split\n",
    "from scipy.stats import norm"
   ]
  },
  {
   "cell_type": "markdown",
   "metadata": {},
   "source": [
    "## Load data"
   ]
  },
  {
   "cell_type": "code",
   "execution_count": 3,
   "metadata": {
    "collapsed": true
   },
   "outputs": [],
   "source": [
    "class Component:\n",
    "    \"\"\"\n",
    "    Helper class for working with components\n",
    "    \"\"\"\n",
    "    \n",
    "    def __init__(self, name):\n",
    "        self.name = name\n",
    "        self.loader = data.ComponentDataLoader(\"../data\", name)"
   ]
  },
  {
   "cell_type": "code",
   "execution_count": 4,
   "metadata": {
    "collapsed": true
   },
   "outputs": [],
   "source": [
    "component = Component(\"ReichLab-SARIMA1\")\n",
    "actual_dl = data.ActualDataLoader(\"../data\")"
   ]
  },
  {
   "cell_type": "markdown",
   "metadata": {},
   "source": [
    "## Working on week ahead predictions"
   ]
  },
  {
   "cell_type": "code",
   "execution_count": 83,
   "metadata": {
    "collapsed": true
   },
   "outputs": [],
   "source": [
    "REGION = None # Specify None for using all the data\n",
    "WEEK_NUMBER = 2\n",
    "\n",
    "y, Xs, yi = data.get_week_ahead_training_data(\n",
    "    WEEK_NUMBER, REGION,\n",
    "    actual_dl, [component.loader]\n",
    ")\n",
    "\n",
    "component.data = Xs[0]"
   ]
  },
  {
   "cell_type": "markdown",
   "metadata": {},
   "source": [
    "### Getting error using the distribution max"
   ]
  },
  {
   "cell_type": "code",
   "execution_count": 84,
   "metadata": {
    "collapsed": true
   },
   "outputs": [],
   "source": [
    "component_out = utils.get_merged_features(\n",
    "    Xs, \n",
    "    [utils.dist_max]\n",
    ")[:, 0]\n",
    "\n",
    "component_error = y - component_out"
   ]
  },
  {
   "cell_type": "markdown",
   "metadata": {},
   "source": [
    "## Network inputs and outputs\n",
    "\n",
    "The network will take distribution peak from the component, a week encoding and fit on *model_error*"
   ]
  },
  {
   "cell_type": "code",
   "execution_count": 85,
   "metadata": {
    "collapsed": true
   },
   "outputs": [],
   "source": [
    "def encode_epiweek(epiweek: int):\n",
    "    \"\"\"\n",
    "    Encode epiweek of the form YYYYWW\n",
    "    \"\"\"\n",
    "    \n",
    "    year = epiweek // 100\n",
    "    week = epiweek % 100\n",
    "    \n",
    "    # Get the limit of weeks in year\n",
    "    n_weeks = pymmwr.mmwr_weeks_in_year(year)\n",
    "    \n",
    "    radian = 2 * np.pi * week / n_weeks\n",
    "    \n",
    "    return np.array([np.sin(radian), np.cos(radian)])\n",
    "\n",
    "weeks = np.array([encode_epiweek(ew) for ew in yi[:, 0]])"
   ]
  },
  {
   "cell_type": "markdown",
   "metadata": {},
   "source": [
    "Training on data before 201443"
   ]
  },
  {
   "cell_type": "code",
   "execution_count": 86,
   "metadata": {
    "collapsed": true
   },
   "outputs": [],
   "source": [
    "train_indices = yi[:, 0] < 201443"
   ]
  },
  {
   "cell_type": "markdown",
   "metadata": {},
   "source": [
    "## Model"
   ]
  },
  {
   "cell_type": "code",
   "execution_count": 87,
   "metadata": {
    "collapsed": true
   },
   "outputs": [],
   "source": [
    "def res_mod(n_input):\n",
    "    \"\"\"\n",
    "    Return an error fit model\n",
    "    \"\"\"\n",
    "    \n",
    "    model = Sequential()\n",
    "    model.add(Dense(5, input_shape=(n_input,)))\n",
    "    model.add(Activation(\"relu\"))\n",
    "#     model.add(Dense(5))\n",
    "#     model.add(Activation(\"relu\"))\n",
    "    model.add(Dense(5))\n",
    "    model.add(Activation(\"relu\"))\n",
    "    \n",
    "    # Return the error\n",
    "    model.add(Dense(1))\n",
    "    \n",
    "    return model"
   ]
  },
  {
   "cell_type": "code",
   "execution_count": 88,
   "metadata": {
    "collapsed": true
   },
   "outputs": [],
   "source": [
    "model = res_mod(3)"
   ]
  },
  {
   "cell_type": "code",
   "execution_count": 89,
   "metadata": {},
   "outputs": [
    {
     "name": "stdout",
     "output_type": "stream",
     "text": [
      "Train on 1336 samples, validate on 149 samples\n",
      "Epoch 1/100\n",
      "1336/1336 [==============================] - 0s - loss: 0.5527 - val_loss: 0.4004\n",
      "Epoch 2/100\n",
      "1336/1336 [==============================] - 0s - loss: 0.4952 - val_loss: 0.4033\n",
      "Epoch 3/100\n",
      "1336/1336 [==============================] - 0s - loss: 0.4710 - val_loss: 0.4004\n",
      "Epoch 4/100\n",
      "1336/1336 [==============================] - 0s - loss: 0.4587 - val_loss: 0.3972\n",
      "Epoch 5/100\n",
      "1336/1336 [==============================] - 0s - loss: 0.4517 - val_loss: 0.3915\n",
      "Epoch 6/100\n",
      "1336/1336 [==============================] - 0s - loss: 0.4478 - val_loss: 0.3950\n",
      "Epoch 7/100\n",
      "1336/1336 [==============================] - 0s - loss: 0.4458 - val_loss: 0.3908\n",
      "Epoch 8/100\n",
      "1336/1336 [==============================] - 0s - loss: 0.4439 - val_loss: 0.3925\n",
      "Epoch 9/100\n",
      "1336/1336 [==============================] - 0s - loss: 0.4425 - val_loss: 0.3860\n",
      "Epoch 10/100\n",
      "1336/1336 [==============================] - 0s - loss: 0.4412 - val_loss: 0.3844\n",
      "Epoch 11/100\n",
      "1336/1336 [==============================] - 0s - loss: 0.4406 - val_loss: 0.3913\n",
      "Epoch 12/100\n",
      "1336/1336 [==============================] - 0s - loss: 0.4398 - val_loss: 0.3888\n",
      "Epoch 13/100\n",
      "1336/1336 [==============================] - 0s - loss: 0.4395 - val_loss: 0.3849\n",
      "Epoch 14/100\n",
      "1336/1336 [==============================] - 0s - loss: 0.4391 - val_loss: 0.3854\n",
      "Epoch 15/100\n",
      "1336/1336 [==============================] - 0s - loss: 0.4381 - val_loss: 0.3873\n"
     ]
    }
   ],
   "source": [
    "model.compile(optimizer=\"rmsprop\", loss=\"mae\")\n",
    "\n",
    "early_stop = EarlyStopping(monitor=\"val_loss\", patience=4, mode=\"auto\")\n",
    "\n",
    "model_in = np.concatenate([component_out[train_indices][:, None], weeks[train_indices]], axis=1)\n",
    "\n",
    "history = model.fit(model_in,\n",
    "                    component_error[train_indices],\n",
    "                    batch_size=64, epochs=100,\n",
    "                    verbose=1,\n",
    "                    callbacks=[early_stop],\n",
    "                    validation_split=0.1)"
   ]
  },
  {
   "cell_type": "code",
   "execution_count": 90,
   "metadata": {},
   "outputs": [
    {
     "data": {
      "text/plain": [
       "[<matplotlib.lines.Line2D at 0x7ffaeaf4c550>]"
      ]
     },
     "execution_count": 90,
     "metadata": {},
     "output_type": "execute_result"
    },
    {
     "data": {
      "image/png": "[encoded data removed]",
      "text/plain": [
       "<matplotlib.figure.Figure at 0x7ffaeaf4c518>"
      ]
     },
     "metadata": {},
     "output_type": "display_data"
    }
   ],
   "source": [
    "plt.plot(history.history[\"loss\"])\n",
    "plt.plot(history.history[\"val_loss\"])"
   ]
  },
  {
   "cell_type": "markdown",
   "metadata": {},
   "source": [
    "## Evaluation"
   ]
  },
  {
   "cell_type": "code",
   "execution_count": 91,
   "metadata": {
    "scrolled": true
   },
   "outputs": [],
   "source": [
    "regions = [\"nat\", *[f\"hhs{i}\" for i in range(1, 11)], None]\n",
    "\n",
    "models = [component.name, \"Res-fit\"]\n",
    "\n",
    "eval_df = {model: [] for model in models}\n",
    "\n",
    "for region in regions:\n",
    "    if region is None:\n",
    "        eval_indices = ~train_indices\n",
    "    else:\n",
    "        eval_indices = (~train_indices) & (yi[:, 1] == region)\n",
    "        \n",
    "    component_dist = component.data[eval_indices]\n",
    "    model_in = np.concatenate([component_out[eval_indices][:, None], weeks[eval_indices]], axis=1) \n",
    "    rf_dist = utils.shift_distribution(component_dist, model.predict(model_in)[:, 0])\n",
    "\n",
    "    dists = [\n",
    "        component_dist,\n",
    "        rf_dist\n",
    "    ]\n",
    "    y_one_hot = utils.wili_to_dists(y[eval_indices])\n",
    "    \n",
    "    for name, output in zip(models, dists):\n",
    "        eval_df[name].append(K.categorical_crossentropy(output, y_one_hot).mean().eval())\n",
    "        \n",
    "eval_df = pd.DataFrame(eval_df)\n",
    "eval_df.index = [*regions[:-1], \"All\"]"
   ]
  },
  {
   "cell_type": "code",
   "execution_count": 92,
   "metadata": {},
   "outputs": [
    {
     "data": {
      "text/html": [
       "<div>\n",
       "<style>\n",
       "    .dataframe thead tr:only-child th {\n",
       "        text-align: right;\n",
       "    }\n",
       "\n",
       "    .dataframe thead th {\n",
       "        text-align: left;\n",
       "    }\n",
       "\n",
       "    .dataframe tbody tr th {\n",
       "        vertical-align: top;\n",
       "    }\n",
       "</style>\n",
       "<table border=\"1\" class=\"dataframe\">\n",
       "  <thead>\n",
       "    <tr style=\"text-align: right;\">\n",
       "      <th></th>\n",
       "      <th>ReichLab-SARIMA1</th>\n",
       "      <th>Res-fit</th>\n",
       "    </tr>\n",
       "  </thead>\n",
       "  <tbody>\n",
       "    <tr>\n",
       "      <th>nat</th>\n",
       "      <td>2.6984609575393907</td>\n",
       "      <td>3.469046594204509</td>\n",
       "    </tr>\n",
       "    <tr>\n",
       "      <th>hhs1</th>\n",
       "      <td>2.8695329976928363</td>\n",
       "      <td>2.7214269041819215</td>\n",
       "    </tr>\n",
       "    <tr>\n",
       "      <th>hhs2</th>\n",
       "      <td>3.5268609460874263</td>\n",
       "      <td>3.586483322007389</td>\n",
       "    </tr>\n",
       "    <tr>\n",
       "      <th>hhs3</th>\n",
       "      <td>3.204720078270798</td>\n",
       "      <td>3.266466328342782</td>\n",
       "    </tr>\n",
       "    <tr>\n",
       "      <th>hhs4</th>\n",
       "      <td>3.0104005931704876</td>\n",
       "      <td>3.365255127379452</td>\n",
       "    </tr>\n",
       "    <tr>\n",
       "      <th>hhs5</th>\n",
       "      <td>2.8255767200749378</td>\n",
       "      <td>3.08445406122986</td>\n",
       "    </tr>\n",
       "    <tr>\n",
       "      <th>hhs6</th>\n",
       "      <td>3.9220034690959893</td>\n",
       "      <td>3.7740313606752847</td>\n",
       "    </tr>\n",
       "    <tr>\n",
       "      <th>hhs7</th>\n",
       "      <td>3.1813257639351895</td>\n",
       "      <td>3.595241355491771</td>\n",
       "    </tr>\n",
       "    <tr>\n",
       "      <th>hhs8</th>\n",
       "      <td>2.901717501595002</td>\n",
       "      <td>2.8242592577912196</td>\n",
       "    </tr>\n",
       "    <tr>\n",
       "      <th>hhs9</th>\n",
       "      <td>3.302682642716768</td>\n",
       "      <td>3.065953923210447</td>\n",
       "    </tr>\n",
       "    <tr>\n",
       "      <th>hhs10</th>\n",
       "      <td>2.8650863106066473</td>\n",
       "      <td>3.549235302232535</td>\n",
       "    </tr>\n",
       "    <tr>\n",
       "      <th>All</th>\n",
       "      <td>3.118942543707771</td>\n",
       "      <td>3.3001685033406574</td>\n",
       "    </tr>\n",
       "  </tbody>\n",
       "</table>\n",
       "</div>"
      ],
      "text/plain": [
       "         ReichLab-SARIMA1             Res-fit\n",
       "nat    2.6984609575393907   3.469046594204509\n",
       "hhs1   2.8695329976928363  2.7214269041819215\n",
       "hhs2   3.5268609460874263   3.586483322007389\n",
       "hhs3    3.204720078270798   3.266466328342782\n",
       "hhs4   3.0104005931704876   3.365255127379452\n",
       "hhs5   2.8255767200749378    3.08445406122986\n",
       "hhs6   3.9220034690959893  3.7740313606752847\n",
       "hhs7   3.1813257639351895   3.595241355491771\n",
       "hhs8    2.901717501595002  2.8242592577912196\n",
       "hhs9    3.302682642716768   3.065953923210447\n",
       "hhs10  2.8650863106066473   3.549235302232535\n",
       "All     3.118942543707771  3.3001685033406574"
      ]
     },
     "execution_count": 92,
     "metadata": {},
     "output_type": "execute_result"
    }
   ],
   "source": [
    "eval_df"
   ]
  },
  {
   "cell_type": "code",
   "execution_count": null,
   "metadata": {
    "collapsed": true
   },
   "outputs": [],
   "source": []
  }
 ],
 "metadata": {
  "kernelspec": {
   "display_name": "Python 3",
   "language": "python",
   "name": "python3"
  },
  "language_info": {
   "codemirror_mode": {
    "name": "ipython",
    "version": 3
   },
   "file_extension": ".py",
   "mimetype": "text/x-python",
   "name": "python",
   "nbconvert_exporter": "python",
   "pygments_lexer": "ipython3",
   "version": "3.6.1"
  }
 },
 "nbformat": 4,
 "nbformat_minor": 2
}
