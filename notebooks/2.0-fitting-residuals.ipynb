{
 "cells": [
  {
   "cell_type": "markdown",
   "metadata": {},
   "source": [
    "# Residual fitting\n",
    "\n",
    "This notebook trains a neural network to fit residuals left after a component model is trained. The ensemble model here takes a prediction distribution from a single component model and tries to fit the error using the actual data and the peak of the distribution."
   ]
  },
  {
   "cell_type": "code",
   "execution_count": 1,
   "metadata": {
    "collapsed": true
   },
   "outputs": [],
   "source": [
    "%load_ext autoreload\n",
    "%autoreload 2\n",
    "%matplotlib inline\n",
    "\n",
    "import sys\n",
    "sys.path.append(\"../src\")"
   ]
  },
  {
   "cell_type": "code",
   "execution_count": 2,
   "metadata": {},
   "outputs": [
    {
     "name": "stderr",
     "output_type": "stream",
     "text": [
      "Using Theano backend.\n"
     ]
    }
   ],
   "source": [
    "import matplotlib.pyplot as plt\n",
    "import numpy as np\n",
    "import pandas as pd\n",
    "import data\n",
    "import utils\n",
    "import losses\n",
    "import pymmwr\n",
    "\n",
    "from functools import partial, reduce\n",
    "\n",
    "from keras.layers import (Activation, Dense, Dropout, Embedding, Flatten, Merge, Reshape)\n",
    "from keras.models import Sequential\n",
    "from keras.callbacks import EarlyStopping\n",
    "import keras.backend as K\n",
    "from sklearn.model_selection import train_test_split\n",
    "from scipy.stats import norm"
   ]
  },
  {
   "cell_type": "markdown",
   "metadata": {},
   "source": [
    "## Load data"
   ]
  },
  {
   "cell_type": "code",
   "execution_count": 3,
   "metadata": {
    "collapsed": true
   },
   "outputs": [],
   "source": [
    "class Component:\n",
    "    \"\"\"\n",
    "    Helper class for working with components\n",
    "    \"\"\"\n",
    "    \n",
    "    def __init__(self, name):\n",
    "        self.name = name\n",
    "        self.loader = data.ComponentDataLoader(\"../data\", name)"
   ]
  },
  {
   "cell_type": "code",
   "execution_count": 4,
   "metadata": {
    "collapsed": true
   },
   "outputs": [],
   "source": [
    "component = Component(\"ReichLab-SARIMA1\")\n",
    "actual_dl = data.ActualDataLoader(\"../data\")"
   ]
  },
  {
   "cell_type": "markdown",
   "metadata": {},
   "source": [
    "## Working on week ahead predictions"
   ]
  },
  {
   "cell_type": "code",
   "execution_count": 22,
   "metadata": {
    "collapsed": true
   },
   "outputs": [],
   "source": [
    "REGION = None # Specify None for using all the data\n",
    "WEEK_NUMBER = 2\n",
    "\n",
    "y, Xs, yi = data.get_week_ahead_training_data(\n",
    "    WEEK_NUMBER, REGION,\n",
    "    actual_dl, [component.loader]\n",
    ")\n",
    "\n",
    "component.data = Xs[0]"
   ]
  },
  {
   "cell_type": "markdown",
   "metadata": {},
   "source": [
    "### Getting error using the distribution max"
   ]
  },
  {
   "cell_type": "code",
   "execution_count": 23,
   "metadata": {
    "collapsed": true
   },
   "outputs": [],
   "source": [
    "component_out = utils.get_merged_features(\n",
    "    Xs, \n",
    "    [utils.dist_median]\n",
    ")[:, 0]\n",
    "\n",
    "component_error = y - component_out"
   ]
  },
  {
   "cell_type": "markdown",
   "metadata": {},
   "source": [
    "## Network inputs and outputs\n",
    "\n",
    "The network will take distribution peak from the component, a week encoding and fit on *model_error*"
   ]
  },
  {
   "cell_type": "code",
   "execution_count": 24,
   "metadata": {
    "collapsed": true
   },
   "outputs": [],
   "source": [
    "def encode_epiweek(epiweek: int):\n",
    "    \"\"\"\n",
    "    Encode epiweek of the form YYYYWW\n",
    "    \"\"\"\n",
    "    \n",
    "    year = epiweek // 100\n",
    "    week = epiweek % 100\n",
    "    \n",
    "    # Get the limit of weeks in year\n",
    "    n_weeks = pymmwr.mmwr_weeks_in_year(year)\n",
    "    \n",
    "    radian = 2 * np.pi * week / n_weeks\n",
    "    \n",
    "    return np.array([np.sin(radian), np.cos(radian)])\n",
    "\n",
    "weeks = np.array([encode_epiweek(ew) for ew in yi[:, 0]])"
   ]
  },
  {
   "cell_type": "markdown",
   "metadata": {},
   "source": [
    "Training on data before 201443"
   ]
  },
  {
   "cell_type": "code",
   "execution_count": 25,
   "metadata": {
    "collapsed": true
   },
   "outputs": [],
   "source": [
    "train_indices = yi[:, 0] < 201443"
   ]
  },
  {
   "cell_type": "markdown",
   "metadata": {},
   "source": [
    "## Model"
   ]
  },
  {
   "cell_type": "code",
   "execution_count": 26,
   "metadata": {
    "collapsed": true
   },
   "outputs": [],
   "source": [
    "def res_mod(n_input):\n",
    "    \"\"\"\n",
    "    Return an error fit model\n",
    "    \"\"\"\n",
    "    \n",
    "    model = Sequential()\n",
    "    model.add(Dense(5, input_shape=(n_input,)))\n",
    "    model.add(Activation(\"relu\"))\n",
    "#     model.add(Dense(5))\n",
    "#     model.add(Activation(\"relu\"))\n",
    "    model.add(Dense(5))\n",
    "    model.add(Activation(\"relu\"))\n",
    "    \n",
    "    # Return the error\n",
    "    model.add(Dense(1))\n",
    "    \n",
    "    return model"
   ]
  },
  {
   "cell_type": "code",
   "execution_count": 27,
   "metadata": {
    "collapsed": true
   },
   "outputs": [],
   "source": [
    "model = res_mod(3)"
   ]
  },
  {
   "cell_type": "code",
   "execution_count": 28,
   "metadata": {},
   "outputs": [
    {
     "name": "stdout",
     "output_type": "stream",
     "text": [
      "Train on 1336 samples, validate on 149 samples\n",
      "Epoch 1/100\n",
      "1336/1336 [==============================] - 0s - loss: 0.5057 - val_loss: 0.4689\n",
      "Epoch 2/100\n",
      "1336/1336 [==============================] - 0s - loss: 0.4838 - val_loss: 0.4496\n",
      "Epoch 3/100\n",
      "1336/1336 [==============================] - 0s - loss: 0.4688 - val_loss: 0.4375\n",
      "Epoch 4/100\n",
      "1336/1336 [==============================] - 0s - loss: 0.4565 - val_loss: 0.4322\n",
      "Epoch 5/100\n",
      "1336/1336 [==============================] - 0s - loss: 0.4458 - val_loss: 0.4283\n",
      "Epoch 6/100\n",
      "1336/1336 [==============================] - 0s - loss: 0.4378 - val_loss: 0.4267\n",
      "Epoch 7/100\n",
      "1336/1336 [==============================] - 0s - loss: 0.4324 - val_loss: 0.4247\n",
      "Epoch 8/100\n",
      "1336/1336 [==============================] - 0s - loss: 0.4280 - val_loss: 0.4254\n",
      "Epoch 9/100\n",
      "1336/1336 [==============================] - 0s - loss: 0.4240 - val_loss: 0.4243\n",
      "Epoch 10/100\n",
      "1336/1336 [==============================] - 0s - loss: 0.4207 - val_loss: 0.4224\n",
      "Epoch 11/100\n",
      "1336/1336 [==============================] - 0s - loss: 0.4178 - val_loss: 0.4221\n",
      "Epoch 12/100\n",
      "1336/1336 [==============================] - 0s - loss: 0.4154 - val_loss: 0.4247\n",
      "Epoch 13/100\n",
      "1336/1336 [==============================] - 0s - loss: 0.4138 - val_loss: 0.4224\n",
      "Epoch 14/100\n",
      "1336/1336 [==============================] - 0s - loss: 0.4125 - val_loss: 0.4197\n",
      "Epoch 15/100\n",
      "1336/1336 [==============================] - 0s - loss: 0.4113 - val_loss: 0.4180\n",
      "Epoch 16/100\n",
      "1336/1336 [==============================] - 0s - loss: 0.4103 - val_loss: 0.4200\n",
      "Epoch 17/100\n",
      "1336/1336 [==============================] - 0s - loss: 0.4090 - val_loss: 0.4190\n",
      "Epoch 18/100\n",
      "1336/1336 [==============================] - 0s - loss: 0.4080 - val_loss: 0.4184\n",
      "Epoch 19/100\n",
      "1336/1336 [==============================] - 0s - loss: 0.4067 - val_loss: 0.4185\n",
      "Epoch 20/100\n",
      "1336/1336 [==============================] - 0s - loss: 0.4057 - val_loss: 0.4186\n"
     ]
    }
   ],
   "source": [
    "model.compile(optimizer=\"rmsprop\", loss=\"mae\")\n",
    "\n",
    "early_stop = EarlyStopping(monitor=\"val_loss\", patience=4, mode=\"auto\")\n",
    "\n",
    "model_in = np.concatenate([component_out[train_indices][:, None], weeks[train_indices]], axis=1)\n",
    "\n",
    "history = model.fit(model_in,\n",
    "                    component_error[train_indices],\n",
    "                    batch_size=64, epochs=100,\n",
    "                    verbose=1,\n",
    "                    callbacks=[early_stop],\n",
    "                    validation_split=0.1)"
   ]
  },
  {
   "cell_type": "code",
   "execution_count": 29,
   "metadata": {},
   "outputs": [
    {
     "data": {
      "text/plain": [
       "[<matplotlib.lines.Line2D at 0x7f9dc47e02e8>]"
      ]
     },
     "execution_count": 29,
     "metadata": {},
     "output_type": "execute_result"
    },
    {
     "data": {
      "image/png": "[encoded data removed]",
      "text/plain": [
       "<matplotlib.figure.Figure at 0x7f9dc47e00b8>"
      ]
     },
     "metadata": {},
     "output_type": "display_data"
    }
   ],
   "source": [
    "plt.plot(history.history[\"loss\"])\n",
    "plt.plot(history.history[\"val_loss\"])"
   ]
  },
  {
   "cell_type": "markdown",
   "metadata": {},
   "source": [
    "## Evaluation"
   ]
  },
  {
   "cell_type": "code",
   "execution_count": 30,
   "metadata": {
    "collapsed": true,
    "scrolled": true
   },
   "outputs": [],
   "source": [
    "regions = [\"nat\", *[f\"hhs{i}\" for i in range(1, 11)], None]\n",
    "\n",
    "models = [component.name, \"Res-fit\"]\n",
    "\n",
    "eval_df = {model: [] for model in models}\n",
    "\n",
    "for region in regions:\n",
    "    if region is None:\n",
    "        eval_indices = ~train_indices\n",
    "    else:\n",
    "        eval_indices = (~train_indices) & (yi[:, 1] == region)\n",
    "        \n",
    "    component_dist = component.data[eval_indices]\n",
    "    model_in = np.concatenate([component_out[eval_indices][:, None], weeks[eval_indices]], axis=1) \n",
    "    rf_dist = utils.shift_distribution(component_dist, model.predict(model_in)[:, 0])\n",
    "\n",
    "    dists = [\n",
    "        component_dist,\n",
    "        rf_dist\n",
    "    ]\n",
    "    y_one_hot = utils.wili_to_dists(y[eval_indices])\n",
    "    \n",
    "    for name, output in zip(models, dists):\n",
    "        eval_df[name].append(K.categorical_crossentropy(output, y_one_hot).mean().eval())\n",
    "        \n",
    "eval_df = pd.DataFrame(eval_df)\n",
    "eval_df.index = [*regions[:-1], \"All\"]"
   ]
  },
  {
   "cell_type": "code",
   "execution_count": 31,
   "metadata": {},
   "outputs": [
    {
     "data": {
      "text/html": [
       "<div>\n",
       "<style>\n",
       "    .dataframe thead tr:only-child th {\n",
       "        text-align: right;\n",
       "    }\n",
       "\n",
       "    .dataframe thead th {\n",
       "        text-align: left;\n",
       "    }\n",
       "\n",
       "    .dataframe tbody tr th {\n",
       "        vertical-align: top;\n",
       "    }\n",
       "</style>\n",
       "<table border=\"1\" class=\"dataframe\">\n",
       "  <thead>\n",
       "    <tr style=\"text-align: right;\">\n",
       "      <th></th>\n",
       "      <th>ReichLab-SARIMA1</th>\n",
       "      <th>Res-fit</th>\n",
       "    </tr>\n",
       "  </thead>\n",
       "  <tbody>\n",
       "    <tr>\n",
       "      <th>nat</th>\n",
       "      <td>2.6984609575393907</td>\n",
       "      <td>2.792620359489892</td>\n",
       "    </tr>\n",
       "    <tr>\n",
       "      <th>hhs1</th>\n",
       "      <td>2.8695329976928363</td>\n",
       "      <td>2.727573800322057</td>\n",
       "    </tr>\n",
       "    <tr>\n",
       "      <th>hhs2</th>\n",
       "      <td>3.5268609460874263</td>\n",
       "      <td>3.4985870880982852</td>\n",
       "    </tr>\n",
       "    <tr>\n",
       "      <th>hhs3</th>\n",
       "      <td>3.204720078270798</td>\n",
       "      <td>3.149425665554315</td>\n",
       "    </tr>\n",
       "    <tr>\n",
       "      <th>hhs4</th>\n",
       "      <td>3.0104005931704876</td>\n",
       "      <td>3.025529834305576</td>\n",
       "    </tr>\n",
       "    <tr>\n",
       "      <th>hhs5</th>\n",
       "      <td>2.8255767200749378</td>\n",
       "      <td>2.785207640305641</td>\n",
       "    </tr>\n",
       "    <tr>\n",
       "      <th>hhs6</th>\n",
       "      <td>3.9220034690959893</td>\n",
       "      <td>3.81783224180654</td>\n",
       "    </tr>\n",
       "    <tr>\n",
       "      <th>hhs7</th>\n",
       "      <td>3.1813257639351895</td>\n",
       "      <td>3.195704245609997</td>\n",
       "    </tr>\n",
       "    <tr>\n",
       "      <th>hhs8</th>\n",
       "      <td>2.901717501595002</td>\n",
       "      <td>2.816641670290189</td>\n",
       "    </tr>\n",
       "    <tr>\n",
       "      <th>hhs9</th>\n",
       "      <td>3.302682642716768</td>\n",
       "      <td>3.1354195234338973</td>\n",
       "    </tr>\n",
       "    <tr>\n",
       "      <th>hhs10</th>\n",
       "      <td>2.8650863106066473</td>\n",
       "      <td>2.8536875381870135</td>\n",
       "    </tr>\n",
       "    <tr>\n",
       "      <th>All</th>\n",
       "      <td>3.118942543707771</td>\n",
       "      <td>3.072566327945762</td>\n",
       "    </tr>\n",
       "  </tbody>\n",
       "</table>\n",
       "</div>"
      ],
      "text/plain": [
       "         ReichLab-SARIMA1             Res-fit\n",
       "nat    2.6984609575393907   2.792620359489892\n",
       "hhs1   2.8695329976928363   2.727573800322057\n",
       "hhs2   3.5268609460874263  3.4985870880982852\n",
       "hhs3    3.204720078270798   3.149425665554315\n",
       "hhs4   3.0104005931704876   3.025529834305576\n",
       "hhs5   2.8255767200749378   2.785207640305641\n",
       "hhs6   3.9220034690959893    3.81783224180654\n",
       "hhs7   3.1813257639351895   3.195704245609997\n",
       "hhs8    2.901717501595002   2.816641670290189\n",
       "hhs9    3.302682642716768  3.1354195234338973\n",
       "hhs10  2.8650863106066473  2.8536875381870135\n",
       "All     3.118942543707771   3.072566327945762"
      ]
     },
     "execution_count": 31,
     "metadata": {},
     "output_type": "execute_result"
    }
   ],
   "source": [
    "eval_df"
   ]
  },
  {
   "cell_type": "code",
   "execution_count": null,
   "metadata": {
    "collapsed": true
   },
   "outputs": [],
   "source": []
  }
 ],
 "metadata": {
  "kernelspec": {
   "display_name": "Python 3",
   "language": "python",
   "name": "python3"
  },
  "language_info": {
   "codemirror_mode": {
    "name": "ipython",
    "version": 3
   },
   "file_extension": ".py",
   "mimetype": "text/x-python",
   "name": "python",
   "nbconvert_exporter": "python",
   "pygments_lexer": "ipython3",
   "version": "3.6.1"
  }
 },
 "nbformat": 4,
 "nbformat_minor": 2
}
