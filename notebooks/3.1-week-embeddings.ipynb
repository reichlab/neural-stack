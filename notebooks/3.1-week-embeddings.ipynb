{
 "cells": [
  {
   "cell_type": "markdown",
   "metadata": {},
   "source": [
    "# Learn week embedding matrix\n",
    "Use all the available actual data"
   ]
  },
  {
   "cell_type": "code",
   "execution_count": 1,
   "metadata": {
    "collapsed": true
   },
   "outputs": [],
   "source": [
    "%load_ext autoreload\n",
    "%autoreload 2\n",
    "%matplotlib inline\n",
    "\n",
    "import sys\n",
    "sys.path.append(\"../src/\")\n",
    "from collections import OrderedDict\n",
    "import cellbell"
   ]
  },
  {
   "cell_type": "code",
   "execution_count": 2,
   "metadata": {
    "collapsed": false
   },
   "outputs": [
    {
     "name": "stderr",
     "output_type": "stream",
     "text": [
      "Using Theano backend.\n",
      "Using gpu device 0: GeForce GT 630M (CNMeM is disabled, cuDNN not available)\n"
     ]
    }
   ],
   "source": [
    "import pandas as pd\n",
    "import matplotlib.pyplot as plt\n",
    "import numpy as np\n",
    "import utils\n",
    "\n",
    "from models import week_embedding\n",
    "from keras_tqdm import TQDMNotebookCallback\n",
    "from IPython.display import SVG\n",
    "from keras.utils.visualize_util import model_to_dot\n",
    "from keras.optimizers import Adam, RMSprop, SGD\n",
    "from keras.callbacks import Callback\n",
    "from sklearn.model_selection import train_test_split"
   ]
  },
  {
   "cell_type": "code",
   "execution_count": 3,
   "metadata": {
    "collapsed": true
   },
   "outputs": [],
   "source": [
    "data_file = \"../data/processed/ensemble-data.h5\"\n",
    "actual = pd.read_hdf(data_file, \"actual\").dropna()"
   ]
  },
  {
   "cell_type": "code",
   "execution_count": 4,
   "metadata": {
    "collapsed": false
   },
   "outputs": [],
   "source": [
    "X = (actual[\"time\"] % 100).as_matrix()\n",
    "y = actual[\"actual\"].as_matrix()"
   ]
  },
  {
   "cell_type": "code",
   "execution_count": 5,
   "metadata": {
    "collapsed": true
   },
   "outputs": [],
   "source": [
    "X_train, X_test, y_train, y_test = train_test_split(X, y, test_size=0.2)"
   ]
  },
  {
   "cell_type": "markdown",
   "metadata": {},
   "source": [
    "## Embedding model"
   ]
  },
  {
   "cell_type": "code",
   "execution_count": 100,
   "metadata": {
    "collapsed": false,
    "scrolled": false
   },
   "outputs": [
    {
     "name": "stdout",
     "output_type": "stream",
     "text": [
      "____________________________________________________________________________________________________\n",
      "Layer (type)                     Output Shape          Param #     Connected to                     \n",
      "====================================================================================================\n",
      "embedding_18 (Embedding)         (None, 1, 30)         1620        embedding_input_18[0][0]         \n",
      "____________________________________________________________________________________________________\n",
      "flatten_18 (Flatten)             (None, 30)            0           embedding_18[0][0]               \n",
      "____________________________________________________________________________________________________\n",
      "activation_23 (Activation)       (None, 30)            0           flatten_18[0][0]                 \n",
      "____________________________________________________________________________________________________\n",
      "dense_47 (Dense)                 (None, 30)            930         activation_23[0][0]              \n",
      "____________________________________________________________________________________________________\n",
      "activation_24 (Activation)       (None, 30)            0           dense_47[0][0]                   \n",
      "____________________________________________________________________________________________________\n",
      "dense_48 (Dense)                 (None, 20)            620         activation_24[0][0]              \n",
      "____________________________________________________________________________________________________\n",
      "activation_25 (Activation)       (None, 20)            0           dense_48[0][0]                   \n",
      "____________________________________________________________________________________________________\n",
      "dense_49 (Dense)                 (None, 10)            210         activation_25[0][0]              \n",
      "____________________________________________________________________________________________________\n",
      "activation_26 (Activation)       (None, 10)            0           dense_49[0][0]                   \n",
      "____________________________________________________________________________________________________\n",
      "dense_50 (Dense)                 (None, 1)             11          activation_26[0][0]              \n",
      "====================================================================================================\n",
      "Total params: 3,391\n",
      "Trainable params: 3,391\n",
      "Non-trainable params: 0\n",
      "____________________________________________________________________________________________________\n"
     ]
    }
   ],
   "source": [
    "model = week_embedding(30)\n",
    "model.summary()"
   ]
  },
  {
   "cell_type": "code",
   "execution_count": 101,
   "metadata": {
    "collapsed": true
   },
   "outputs": [],
   "source": [
    "model.compile(optimizer=\"adam\", loss=\"mse\")"
   ]
  },
  {
   "cell_type": "code",
   "execution_count": 102,
   "metadata": {
    "collapsed": false
   },
   "outputs": [
    {
     "name": "stdout",
     "output_type": "stream",
     "text": [
      "\n"
     ]
    }
   ],
   "source": [
    "history = model.fit(X_train, y_train,\n",
    "                    batch_size=64, nb_epoch=20,\n",
    "                    verbose=0,\n",
    "                    callbacks=[\n",
    "                        TQDMNotebookCallback()\n",
    "                    ],\n",
    "                    validation_data=(X_test, y_test),\n",
    "                    shuffle=True)"
   ]
  },
  {
   "cell_type": "code",
   "execution_count": 103,
   "metadata": {
    "collapsed": false
   },
   "outputs": [
    {
     "data": {
      "text/plain": [
       "[<matplotlib.lines.Line2D at 0x7fa9d82c4278>]"
      ]
     },
     "execution_count": 103,
     "metadata": {},
     "output_type": "execute_result"
    },
    {
     "data": {
      "image/png": "[encoded data removed]",
      "text/plain": [
       "<matplotlib.figure.Figure at 0x7fa9cb358278>"
      ]
     },
     "metadata": {},
     "output_type": "display_data"
    }
   ],
   "source": [
    "plt.plot(history.history[\"loss\"])\n",
    "plt.plot(history.history[\"val_loss\"])"
   ]
  },
  {
   "cell_type": "code",
   "execution_count": 104,
   "metadata": {
    "collapsed": false,
    "scrolled": true
   },
   "outputs": [
    {
     "name": "stdout",
     "output_type": "stream",
     "text": [
      "1760/1992 [=========================>....] - ETA: 0s\b\b\b\b\b\b\b\b\b\b\b\b\b\b\b\b\b\b\b\b\b\b\b\b\b\b\b\b\b\b\b\b\b\b\b\b\b\b\b\b\b\b\b\b\b\b\b\b\b\b\b\b\b\b\b\b\b\b\b\b\b\b\b\b\b\b\b\b\b\b\b\b\b\b\b\b\b\b\b\b\b\b\b\b\b\b\b\b\b\b\b\b\b\b\b\b\b\b\b\b\b\b\b\b\b\b\b\b\b\b\b\b\b\b\b\b\b\b\b\b\b\b\b\b\b\b\b\b\b\b\b\b\b\b\b\b\b\b\b\b\b\b\b\b\b\b\b\b\b\b\b\b\b\b\b\b\b\b\b\b\b\b\b\b\b\b\b\b\b\b\b\b\b\b\b\b\b\b\b\b\b\b\b\b\b\b\b\b\b\b\b\b\b\b\b\b\b\b\b\b\b\b\b\b\b\b\b\b\b\b\b\b\b\b\b\b\b\b\b\b\b\b\b\b\b\b\b\b\b\b\b\b\b\b\b\b\b\b\b\b\b\b\b\b\b\b\b\b\b\b\b\b\b\b\b\b\b\b\b\b\b\b\b\b\b\b\b\b\b\b\b\b\b\b\b\b\b\b\b\b\b\b\b\b\b\b\b\b\b\b\b\b\b\b\b\b\b\b\b\b\b\b\b\b\b\b\b\b\b\b\b\b\b\b\b\b\b\b\b\b\b\b\b\b\b\b\b\b\b\b\b\b\b\b\b\b\b\b\b\b\b\b\b\b\b\b\b\b\b\b\b\b\b\b\b\b\b\b\b\b\b\b\b\b\b\b\b\b\b\b\b\b\b\b\b\b\b\b\b\b\b\b\b\b\b\b\b\b\b\b\b\b\b\b\b\b\b\b\b\b\b\b\b\b\b\b\b\b\b\b\b\b\b\b\b\b\b\b\b\b\b\b\b\b\b\b\b\b\b\b\b\b\b\b\b\b\b\b\b\b\b\b\b\b\b\b\b\b\b\b\b\b\b\b\b\b\b\b\b\b\b\b\b\b\b\b\b\b"
     ]
    },
    {
     "data": {
      "text/plain": [
       "1.6667908272111271"
      ]
     },
     "execution_count": 104,
     "metadata": {},
     "output_type": "execute_result"
    }
   ],
   "source": [
    "model.evaluate(X_test, y_test)"
   ]
  },
  {
   "cell_type": "code",
   "execution_count": 105,
   "metadata": {
    "collapsed": true
   },
   "outputs": [],
   "source": [
    "emb = model.layers[0].weights[0].get_value()"
   ]
  },
  {
   "cell_type": "code",
   "execution_count": 106,
   "metadata": {
    "collapsed": false
   },
   "outputs": [
    {
     "data": {
      "text/plain": [
       "[<matplotlib.lines.Line2D at 0x7fa9ca14ef98>]"
      ]
     },
     "execution_count": 106,
     "metadata": {},
     "output_type": "execute_result"
    },
    {
     "data": {
      "image/png": "[encoded data removed]",
      "text/plain": [
       "<matplotlib.figure.Figure at 0x7fa9d06672b0>"
      ]
     },
     "metadata": {},
     "output_type": "display_data"
    }
   ],
   "source": [
    "plt.figure(figsize=(14, 6))\n",
    "plt.plot(y_test[400:500])\n",
    "plt.plot(model.predict(X_test[400:500]))"
   ]
  },
  {
   "cell_type": "markdown",
   "metadata": {},
   "source": [
    "## Save embeddings"
   ]
  },
  {
   "cell_type": "code",
   "execution_count": 108,
   "metadata": {
    "collapsed": true
   },
   "outputs": [],
   "source": [
    "np.save(\"../data/processed/week_embeddings\", emb)"
   ]
  }
 ],
 "metadata": {
  "kernelspec": {
   "display_name": "Python 3",
   "language": "python",
   "name": "python3"
  },
  "language_info": {
   "codemirror_mode": {
    "name": "ipython",
    "version": 3
   },
   "file_extension": ".py",
   "mimetype": "text/x-python",
   "name": "python",
   "nbconvert_exporter": "python",
   "pygments_lexer": "ipython3",
   "version": "3.5.2"
  },
  "widgets": {
   "state": {
    "00c36e99577048b1b7528353adf33402": {
     "views": [
      {
       "cell_index": 9
      }
     ]
    },
    "01124071bbbc418bb2c98cdea9e4de86": {
     "views": [
      {
       "cell_index": 9
      }
     ]
    },
    "035c0e8f4f094024b517f2b7d657942b": {
     "views": [
      {
       "cell_index": 9
      }
     ]
    },
    "039dce4eaf3a429fb2364053f89ddb88": {
     "views": [
      {
       "cell_index": 9
      }
     ]
    },
    "03d44585695c43c78a133c72c8a1b1c0": {
     "views": [
      {
       "cell_index": 9
      }
     ]
    },
    "041be64a3aa24b4aab5013229510205a": {
     "views": [
      {
       "cell_index": 9
      }
     ]
    },
    "0432036776374cdbabe76f4ab69e2d2c": {
     "views": [
      {
       "cell_index": 9
      }
     ]
    },
    "044bc2f21537457b921321bfa865204a": {
     "views": [
      {
       "cell_index": 9
      }
     ]
    },
    "0574a2c0561b47ec939fbd4c9d9e0bcf": {
     "views": [
      {
       "cell_index": 9
      }
     ]
    },
    "060c92cecabf41629c077c09378d64f2": {
     "views": [
      {
       "cell_index": 9
      }
     ]
    },
    "067785a812ba4e219bb78f0cf8ee80e3": {
     "views": [
      {
       "cell_index": 10
      }
     ]
    },
    "08f256f093dd47b1834dcfd4244f3b16": {
     "views": [
      {
       "cell_index": 9
      }
     ]
    },
    "09671c9e76f94d118f8a48fc1b73908f": {
     "views": [
      {
       "cell_index": 9
      }
     ]
    },
    "0981ea47019641339d63a4593800a34b": {
     "views": [
      {
       "cell_index": 9
      }
     ]
    },
    "0993d78d53a7438582bbd252b057be97": {
     "views": [
      {
       "cell_index": 9
      }
     ]
    },
    "0a2da080bcee4470abc6d28abb4bf9ea": {
     "views": [
      {
       "cell_index": 9
      }
     ]
    },
    "0bea8e959d8445e7aee236e6d5a496aa": {
     "views": [
      {
       "cell_index": 9
      }
     ]
    },
    "0c05683d533640d2b9e3801f04e49bcd": {
     "views": [
      {
       "cell_index": 9
      }
     ]
    },
    "0cf983325fa344ee94e9a052331c6176": {
     "views": [
      {
       "cell_index": 9
      }
     ]
    },
    "0d56b0c5ae6845d7b9be61d0c71707f9": {
     "views": [
      {
       "cell_index": 9
      }
     ]
    },
    "0dd9688d17394b1ba2d325d711a9f4d1": {
     "views": [
      {
       "cell_index": 9
      }
     ]
    },
    "0e54dffc45164263bef9fdfba3e90563": {
     "views": [
      {
       "cell_index": 9
      }
     ]
    },
    "0e96f562ed6d4fc197ffdd6810ed77f7": {
     "views": [
      {
       "cell_index": 9
      }
     ]
    },
    "0f49edf7d8c6457690df79e3d6e264f6": {
     "views": [
      {
       "cell_index": 9
      }
     ]
    },
    "1033faa213464ecd9521f691b41aac47": {
     "views": [
      {
       "cell_index": 9
      }
     ]
    },
    "10c9814d8cff41c3bf56be1afef89c61": {
     "views": [
      {
       "cell_index": 9
      }
     ]
    },
    "1112f439a7b84a749e8c9517505ef08e": {
     "views": [
      {
       "cell_index": 9
      }
     ]
    },
    "1158b28677cb4fb1aad4712bfd137fd8": {
     "views": [
      {
       "cell_index": 9
      }
     ]
    },
    "115c2796848c417ea3ffb6f0db5d0583": {
     "views": [
      {
       "cell_index": 9
      }
     ]
    },
    "129c8b3c3bf54d8b8a807770be8bee74": {
     "views": [
      {
       "cell_index": 9
      }
     ]
    },
    "1349030ee4b9408884f0cd8c57aaccce": {
     "views": [
      {
       "cell_index": 9
      }
     ]
    },
    "1351055cbaf74609966a22f4137e86e6": {
     "views": [
      {
       "cell_index": 9
      }
     ]
    },
    "15b49925e68f4b65822c9feecd7b1cff": {
     "views": [
      {
       "cell_index": 9
      }
     ]
    },
    "161d20d8ebce49d287580e45f9253827": {
     "views": [
      {
       "cell_index": 9
      }
     ]
    },
    "16a34f7d09ff4f23a960b003d3b013ad": {
     "views": [
      {
       "cell_index": 9
      }
     ]
    },
    "1777d72cdb534591b3d9381822b04692": {
     "views": [
      {
       "cell_index": 9
      }
     ]
    },
    "190f9c036ef147188d38d98e969faf69": {
     "views": [
      {
       "cell_index": 9
      }
     ]
    },
    "195193c4daa54484847a8b698ca4a03b": {
     "views": [
      {
       "cell_index": 9
      }
     ]
    },
    "1975f8e83c6d490296ec8822572a9783": {
     "views": [
      {
       "cell_index": 9
      }
     ]
    },
    "19fa48f0b98c4c538a1e099315bc6136": {
     "views": [
      {
       "cell_index": 9
      }
     ]
    },
    "1ac07387762e44919896acec89603e7f": {
     "views": [
      {
       "cell_index": 9
      }
     ]
    },
    "1be36f6160b44cdebac81b448f315843": {
     "views": [
      {
       "cell_index": 9
      }
     ]
    },
    "1cfc338d8d13478e8d979d91626f8a4e": {
     "views": [
      {
       "cell_index": 9
      }
     ]
    },
    "1d0ba7923a5649fdb4546dc1fd2593e5": {
     "views": [
      {
       "cell_index": 9
      }
     ]
    },
    "1d458929073b41bda78fa7a42263dfd7": {
     "views": [
      {
       "cell_index": 9
      }
     ]
    },
    "1dcf44a2ea224d4683057f9ab4bd9294": {
     "views": [
      {
       "cell_index": 9
      }
     ]
    },
    "1e3c7ee4c6a4444fa12e7ec258a14537": {
     "views": [
      {
       "cell_index": 9
      }
     ]
    },
    "1ea27e0af5f14bdf8a62e97dbbe25e27": {
     "views": [
      {
       "cell_index": 9
      }
     ]
    },
    "23fb2c8b0cae4e1ebc93d9d7149ae405": {
     "views": [
      {
       "cell_index": 9
      }
     ]
    },
    "2496b05620b04d52bc9d13ae1e58be8c": {
     "views": [
      {
       "cell_index": 9
      }
     ]
    },
    "249cb39c69e249acbb9b933ab615d0ad": {
     "views": [
      {
       "cell_index": 9
      }
     ]
    },
    "25bc5a2d90bd417d8c0324278b38d4fc": {
     "views": [
      {
       "cell_index": 9
      }
     ]
    },
    "270a857dc5b24135b1ad93f278acb299": {
     "views": [
      {
       "cell_index": 9
      }
     ]
    },
    "274554c49fc34733a380db6787656762": {
     "views": [
      {
       "cell_index": 9
      }
     ]
    },
    "28f77405bf30404fa52618c3a5891be8": {
     "views": [
      {
       "cell_index": 9
      }
     ]
    },
    "29e39b9e11b64527ba51c2c310ccd62a": {
     "views": [
      {
       "cell_index": 9
      }
     ]
    },
    "2a66d6552a4a4f3ba63278fa508cc8d8": {
     "views": [
      {
       "cell_index": 9
      }
     ]
    },
    "2a6e639c623e48d197c9590f8c60e110": {
     "views": [
      {
       "cell_index": 9
      }
     ]
    },
    "2bb2ca058a5049f4a02c5f7d171cc80f": {
     "views": [
      {
       "cell_index": 9
      }
     ]
    },
    "2d209aaab6f64ceea5ee04c7bef58d52": {
     "views": [
      {
       "cell_index": 9
      }
     ]
    },
    "2eae2ab8822b49d8967be4ad9bf34b0a": {
     "views": [
      {
       "cell_index": 9
      }
     ]
    },
    "2ec277bedcb6421da5dec4318ca46ea0": {
     "views": [
      {
       "cell_index": 9
      }
     ]
    },
    "2f5ab457bb8b45de82c4f267cdd8716a": {
     "views": [
      {
       "cell_index": 9
      }
     ]
    },
    "2fb4f0b5e2c542f2b0db514707a95aa0": {
     "views": [
      {
       "cell_index": 9
      }
     ]
    },
    "310a5b3a8ab74716a351e5f1385a3a2a": {
     "views": [
      {
       "cell_index": 9
      }
     ]
    },
    "312d963b39ba4598b40ebf80ce037ab7": {
     "views": [
      {
       "cell_index": 9
      }
     ]
    },
    "3132e4618107416a921262932cef1a02": {
     "views": [
      {
       "cell_index": 9
      }
     ]
    },
    "33763f8a1a2a4ee480ac49bd3b0e39da": {
     "views": [
      {
       "cell_index": 9
      }
     ]
    },
    "33b50374663d46ddade7314f51cb2a53": {
     "views": [
      {
       "cell_index": 9
      }
     ]
    },
    "350049a7c76f40e39fb7a4ad5972e506": {
     "views": [
      {
       "cell_index": 10
      }
     ]
    },
    "359f104f6b0e4f529a5abdb21e195798": {
     "views": [
      {
       "cell_index": 9
      }
     ]
    },
    "35f997518cb94a72871bfbe70d8bb059": {
     "views": [
      {
       "cell_index": 9
      }
     ]
    },
    "365b0efd0e764d55835deb58cb8398ae": {
     "views": [
      {
       "cell_index": 9
      }
     ]
    },
    "366c046166c64d9e9f7b9cc1031dc6fe": {
     "views": [
      {
       "cell_index": 9
      }
     ]
    },
    "369e59b197ad4eae853d796c2cd9e3ff": {
     "views": [
      {
       "cell_index": 9
      }
     ]
    },
    "389a10b681944a2d9735ba4636c241f6": {
     "views": [
      {
       "cell_index": 9
      }
     ]
    },
    "38a47207b7f24aba82c7396353e86f69": {
     "views": [
      {
       "cell_index": 9
      }
     ]
    },
    "39513524256449aa925ddc72cdfed7f1": {
     "views": [
      {
       "cell_index": 9
      }
     ]
    },
    "3a528de772bc4c23ab224da68a71c0aa": {
     "views": [
      {
       "cell_index": 9
      }
     ]
    },
    "3aed32b0db7f4c8284c0847800a01e89": {
     "views": [
      {
       "cell_index": 9
      }
     ]
    },
    "3c9ab47ae1d848dcbcc850f3e6eb4e98": {
     "views": [
      {
       "cell_index": 9
      }
     ]
    },
    "3cdeb36527bd485b82925514b9a0ae74": {
     "views": [
      {
       "cell_index": 9
      }
     ]
    },
    "3d8a3b9c58be4b5eb64351efb72e8ec8": {
     "views": [
      {
       "cell_index": 9
      }
     ]
    },
    "3dee699c58e84882856445372cdeb2fb": {
     "views": [
      {
       "cell_index": 9
      }
     ]
    },
    "3f51f804450149248cb553992a7e53ad": {
     "views": [
      {
       "cell_index": 9
      }
     ]
    },
    "3fd67153ed164d50809cb54e4d232de9": {
     "views": [
      {
       "cell_index": 9
      }
     ]
    },
    "411a231bbd674ca3aef9be3039698122": {
     "views": [
      {
       "cell_index": 9
      }
     ]
    },
    "417b08ff4fba46158fd9224d32fb7216": {
     "views": [
      {
       "cell_index": 9
      }
     ]
    },
    "424eb80b2e184b1ab32d091c288d0ea2": {
     "views": [
      {
       "cell_index": 9
      }
     ]
    },
    "43360c7c119340688c7051273953e5ed": {
     "views": [
      {
       "cell_index": 10
      }
     ]
    },
    "438d29487e3146ac86d4e1a9e8ed7255": {
     "views": [
      {
       "cell_index": 9
      }
     ]
    },
    "43ace2b2334f4a3aa728c2cd913649c7": {
     "views": [
      {
       "cell_index": 9
      }
     ]
    },
    "4503117538df43a9a4ddfcead1d1d2a6": {
     "views": [
      {
       "cell_index": 9
      }
     ]
    },
    "4516357e7e12400b91396ccef5ec57ab": {
     "views": [
      {
       "cell_index": 9
      }
     ]
    },
    "45939871d39f4ad6a1a9951a7735a2ef": {
     "views": [
      {
       "cell_index": 9
      }
     ]
    },
    "46cba80d51724908bf4835987bb80d85": {
     "views": [
      {
       "cell_index": 9
      }
     ]
    },
    "48921b8cfc92448588da68f419c393c8": {
     "views": [
      {
       "cell_index": 9
      }
     ]
    },
    "4a053efc80724c6fa377235a8fa76711": {
     "views": [
      {
       "cell_index": 9
      }
     ]
    },
    "4a37d0258f0541d0b2bd208353c58d89": {
     "views": [
      {
       "cell_index": 9
      }
     ]
    },
    "4aef90ce39a04ae992ba2055962ed218": {
     "views": [
      {
       "cell_index": 9
      }
     ]
    },
    "4bd9941c6b40476888c99e1e5cc5f237": {
     "views": [
      {
       "cell_index": 9
      }
     ]
    },
    "4bf86d5048594a4882c95ba475d96cd1": {
     "views": [
      {
       "cell_index": 9
      }
     ]
    },
    "4d9aa410251b4d438cab7c300df2a4e6": {
     "views": [
      {
       "cell_index": 9
      }
     ]
    },
    "4e07c23347184ebfa60a2cbecee7781e": {
     "views": [
      {
       "cell_index": 9
      }
     ]
    },
    "4faf148dc9e240d48cc6d1137dc231a8": {
     "views": [
      {
       "cell_index": 9
      }
     ]
    },
    "4fc8407eda0f46938586176d5a04a9ce": {
     "views": [
      {
       "cell_index": 9
      }
     ]
    },
    "50507dab051e4199920bb1406426fdb7": {
     "views": [
      {
       "cell_index": 9
      }
     ]
    },
    "523087079ac64f7ca21f0f877bb1eb6c": {
     "views": [
      {
       "cell_index": 9
      }
     ]
    },
    "528dd0fcf88e46dfbc6171eda3a3c2b3": {
     "views": [
      {
       "cell_index": 9
      }
     ]
    },
    "5442961902774388b94e973cb96ac1b5": {
     "views": [
      {
       "cell_index": 9
      }
     ]
    },
    "54f86ad649c048b7866a997473ddbd94": {
     "views": [
      {
       "cell_index": 9
      }
     ]
    },
    "554e3b06484b4b9980c6850bd81e7960": {
     "views": [
      {
       "cell_index": 9
      }
     ]
    },
    "5772d86dbe9a42abad7d776a0b5b6ee8": {
     "views": [
      {
       "cell_index": 9
      }
     ]
    },
    "5792c18d9f4f4b21a748dcc6588d112f": {
     "views": [
      {
       "cell_index": 9
      }
     ]
    },
    "57c9d59d252844519700016b8ad0eca9": {
     "views": [
      {
       "cell_index": 9
      }
     ]
    },
    "5833643705fe4612a8f6a5f361c4c130": {
     "views": [
      {
       "cell_index": 9
      }
     ]
    },
    "5846e8acd017461d87a0ba691247e919": {
     "views": [
      {
       "cell_index": 9
      }
     ]
    },
    "5896bad76c1d4ba8a4565ad656c3d7e8": {
     "views": [
      {
       "cell_index": 9
      }
     ]
    },
    "589a8d3188444825b577b1b74a521a99": {
     "views": [
      {
       "cell_index": 9
      }
     ]
    },
    "5bd1569b79c946999e79386d7563eee0": {
     "views": [
      {
       "cell_index": 9
      }
     ]
    },
    "5be5b12ab12b4b0cac9adccdbf0c2e4b": {
     "views": [
      {
       "cell_index": 9
      }
     ]
    },
    "5c5359bf36284cc9801d1ae3e1a54333": {
     "views": [
      {
       "cell_index": 9
      }
     ]
    },
    "5d5333e8e2ef41528d6ee65c07cb7914": {
     "views": [
      {
       "cell_index": 9
      }
     ]
    },
    "5d5c44fc4a0a433fb5c28a035ed7db78": {
     "views": [
      {
       "cell_index": 9
      }
     ]
    },
    "5f0027b271624ed398442dd929646d0d": {
     "views": [
      {
       "cell_index": 9
      }
     ]
    },
    "5f5aa8648d4d4a638200759c51a6742f": {
     "views": [
      {
       "cell_index": 9
      }
     ]
    },
    "61cc390a8a8d4548977a6dd3844fb848": {
     "views": [
      {
       "cell_index": 9
      }
     ]
    },
    "6202b5609969463683cecc03fefaa3d3": {
     "views": [
      {
       "cell_index": 9
      }
     ]
    },
    "64a22e3f38fd42b0a5ae20e0e20da130": {
     "views": [
      {
       "cell_index": 9
      }
     ]
    },
    "64c0f5c22dea482fa78840fa1682749e": {
     "views": [
      {
       "cell_index": 9
      }
     ]
    },
    "64e34a102c9d4985b800036ff291cc07": {
     "views": [
      {
       "cell_index": 9
      }
     ]
    },
    "668b3d87633a45bebc6954b8fd74dd02": {
     "views": [
      {
       "cell_index": 9
      }
     ]
    },
    "682139535504426992fe9ab6f3c341cd": {
     "views": [
      {
       "cell_index": 9
      }
     ]
    },
    "6a742df57648402a9c545886cd169f31": {
     "views": [
      {
       "cell_index": 9
      }
     ]
    },
    "6b7d76afc5ea447589d791b3a8ec7984": {
     "views": [
      {
       "cell_index": 9
      }
     ]
    },
    "6c26a062a5954d5fb428ab88081dfa0a": {
     "views": [
      {
       "cell_index": 9
      }
     ]
    },
    "6cc272105a42470598b142384a957ec4": {
     "views": [
      {
       "cell_index": 9
      }
     ]
    },
    "6ec6ac07490d4c1fb837e003f27065de": {
     "views": [
      {
       "cell_index": 9
      }
     ]
    },
    "6ed29101b9e749df81d9e08d371364d8": {
     "views": [
      {
       "cell_index": 9
      }
     ]
    },
    "72703b74aef447baa964718b26ff284d": {
     "views": [
      {
       "cell_index": 9
      }
     ]
    },
    "72b5b1d8ef644cb9be4bd8b024773490": {
     "views": [
      {
       "cell_index": 9
      }
     ]
    },
    "732d78234401432c8235a611e373136d": {
     "views": [
      {
       "cell_index": 9
      }
     ]
    },
    "73b352f2eb9846509dd2e53a1f21422b": {
     "views": [
      {
       "cell_index": 9
      }
     ]
    },
    "7409b37474824c19a15b5e24a0b1d062": {
     "views": [
      {
       "cell_index": 9
      }
     ]
    },
    "744a4a29681e4df789482a0b7d661c0c": {
     "views": [
      {
       "cell_index": 9
      }
     ]
    },
    "74a254df6d314c8db3030915721fe6bb": {
     "views": [
      {
       "cell_index": 9
      }
     ]
    },
    "74ce65fc13e64be88d6ad01a204e27f7": {
     "views": [
      {
       "cell_index": 9
      }
     ]
    },
    "7567f1de4aec4a93a76e325180479feb": {
     "views": [
      {
       "cell_index": 9
      }
     ]
    },
    "7596b82021b348e49be952e63d608b8b": {
     "views": [
      {
       "cell_index": 9
      }
     ]
    },
    "75ed841c6e3744ce801fbcbc6f0be030": {
     "views": [
      {
       "cell_index": 9
      }
     ]
    },
    "773868e6d08d4c8b9cc57dc85a98bf00": {
     "views": [
      {
       "cell_index": 9
      }
     ]
    },
    "78d0d31faf51422797454b8e09d36de8": {
     "views": [
      {
       "cell_index": 9
      }
     ]
    },
    "79134c0c808f4d7f98bfd73a01a376af": {
     "views": [
      {
       "cell_index": 9
      }
     ]
    },
    "799366d752494e53b2efe15bd49a251a": {
     "views": [
      {
       "cell_index": 9
      }
     ]
    },
    "7a594d2a2cd848848470626e17d770c0": {
     "views": [
      {
       "cell_index": 9
      }
     ]
    },
    "7b38232c7d244302a87f621be70345d8": {
     "views": [
      {
       "cell_index": 9
      }
     ]
    },
    "7be729a5b48a415e946f8c513189da90": {
     "views": [
      {
       "cell_index": 9
      }
     ]
    },
    "7c61098ee74a4edc929011cbc2f583f4": {
     "views": [
      {
       "cell_index": 9
      }
     ]
    },
    "7ca55e491c8e485498a55f3cd6512433": {
     "views": [
      {
       "cell_index": 9
      }
     ]
    },
    "7d444b327f4d4b549d335859502fe7f4": {
     "views": [
      {
       "cell_index": 9
      }
     ]
    },
    "7f35a680a9db4959a56fbb768e21ec06": {
     "views": [
      {
       "cell_index": 9
      }
     ]
    },
    "7f8bd5d2d3854c38a41ac8862528b2ca": {
     "views": [
      {
       "cell_index": 9
      }
     ]
    },
    "8037273901954fa6afa961d4b0cddc24": {
     "views": [
      {
       "cell_index": 9
      }
     ]
    },
    "80a602b7fe514a1b953c765273dd691c": {
     "views": [
      {
       "cell_index": 9
      }
     ]
    },
    "80d844946d6c4428a87b18dff78abfae": {
     "views": [
      {
       "cell_index": 9
      }
     ]
    },
    "81bce99368f64506af418ac73425fa84": {
     "views": [
      {
       "cell_index": 9
      }
     ]
    },
    "83f59e413f254b8eab24fbd188a2ddc8": {
     "views": [
      {
       "cell_index": 9
      }
     ]
    },
    "853e17c977b04f2a88a0f1e03d086430": {
     "views": [
      {
       "cell_index": 9
      }
     ]
    },
    "854a297910b84cd99e863f4e0d3b31f7": {
     "views": [
      {
       "cell_index": 9
      }
     ]
    },
    "85c8b9b748254fbd8b901094f3331b5f": {
     "views": [
      {
       "cell_index": 9
      }
     ]
    },
    "87294102b0a8498691d529fe2b1ce514": {
     "views": [
      {
       "cell_index": 9
      }
     ]
    },
    "8750738ce8d44bb2af5a414ae820fdf5": {
     "views": [
      {
       "cell_index": 9
      }
     ]
    },
    "87936c0d3f164080a6c4dc111351fce0": {
     "views": [
      {
       "cell_index": 9
      }
     ]
    },
    "8bb48c05060945ae85cf306cf0673aa7": {
     "views": [
      {
       "cell_index": 9
      }
     ]
    },
    "8c93e6921784451698a8e6b42b461312": {
     "views": [
      {
       "cell_index": 9
      }
     ]
    },
    "8ca5bef33241421ca5343071ab39ce4d": {
     "views": [
      {
       "cell_index": 9
      }
     ]
    },
    "8ca9324a286a43a2bd06fded4b7a5947": {
     "views": [
      {
       "cell_index": 9
      }
     ]
    },
    "8d262df650064c9ea7471502b9b261a5": {
     "views": [
      {
       "cell_index": 9
      }
     ]
    },
    "8d7c7939a48946bc94a369ed08f2574b": {
     "views": [
      {
       "cell_index": 9
      }
     ]
    },
    "8e42843be8734387a0f5e5e78f426675": {
     "views": [
      {
       "cell_index": 9
      }
     ]
    },
    "8e785043a1b7435295d8a0eb815977f3": {
     "views": [
      {
       "cell_index": 9
      }
     ]
    },
    "8f443185157b40818decafba5563a43e": {
     "views": [
      {
       "cell_index": 9
      }
     ]
    },
    "900fcc1c07b947bbbafc87ae33ea9d91": {
     "views": [
      {
       "cell_index": 9
      }
     ]
    },
    "905c1d255db84513aefc9e1004cf3249": {
     "views": [
      {
       "cell_index": 9
      }
     ]
    },
    "91bcf85c1c6948cbbf9b90bcf53a75e3": {
     "views": [
      {
       "cell_index": 9
      }
     ]
    },
    "91c5cf385ba64ba6b60bf0c34259be94": {
     "views": [
      {
       "cell_index": 9
      }
     ]
    },
    "96fa7dc10d154f97a40ea428c75cdf24": {
     "views": [
      {
       "cell_index": 9
      }
     ]
    },
    "98b46c85400d4495ad7a229276e08f8f": {
     "views": [
      {
       "cell_index": 9
      }
     ]
    },
    "996282184dae45839a08745b028898aa": {
     "views": [
      {
       "cell_index": 9
      }
     ]
    },
    "99d42c46f0b643f985d43fa41b53e0b9": {
     "views": [
      {
       "cell_index": 9
      }
     ]
    },
    "9be1c904ba444b24b1ba1c76ea17f924": {
     "views": [
      {
       "cell_index": 9
      }
     ]
    },
    "9dcfca57f72f4f2fbf84c782a41aea06": {
     "views": [
      {
       "cell_index": 9
      }
     ]
    },
    "9e2bfba8339f46ef82a18cce70442678": {
     "views": [
      {
       "cell_index": 9
      }
     ]
    },
    "9ec92c9fe28e4dee8f84714181d080f9": {
     "views": [
      {
       "cell_index": 9
      }
     ]
    },
    "9ff913ae437a46f7b43b3ba905f3167b": {
     "views": [
      {
       "cell_index": 9
      }
     ]
    },
    "a0a556f00d3c4e83a387321e4d66fcfd": {
     "views": [
      {
       "cell_index": 9
      }
     ]
    },
    "a0d413031eff49b288c4b7c0bc9ee0e7": {
     "views": [
      {
       "cell_index": 9
      }
     ]
    },
    "a11994169a3c49e68e788e2c72b84d2d": {
     "views": [
      {
       "cell_index": 9
      }
     ]
    },
    "a12ed46442014843adec07a25c9614fe": {
     "views": [
      {
       "cell_index": 9
      }
     ]
    },
    "a16b283f62d948079a6dd355233a2f2a": {
     "views": [
      {
       "cell_index": 9
      }
     ]
    },
    "a2c8baeb55514834a1ff217ab3bf49bd": {
     "views": [
      {
       "cell_index": 9
      }
     ]
    },
    "a2fed6c42b3147e39024bfea72609fa0": {
     "views": [
      {
       "cell_index": 9
      }
     ]
    },
    "a47dc191f65e48b0be1f398fac42b495": {
     "views": [
      {
       "cell_index": 9
      }
     ]
    },
    "a56117d86163433e9918f35afb93b026": {
     "views": [
      {
       "cell_index": 9
      }
     ]
    },
    "a5615a5e87294f2c8fd66317f6b7176c": {
     "views": [
      {
       "cell_index": 9
      }
     ]
    },
    "a728d62689db435588ddb52f9c327842": {
     "views": [
      {
       "cell_index": 9
      }
     ]
    },
    "a7ec78864ad949efa25236df80dd9854": {
     "views": [
      {
       "cell_index": 9
      }
     ]
    },
    "a897d7451eeb438a832c0a649dd24ec4": {
     "views": [
      {
       "cell_index": 9
      }
     ]
    },
    "a92fd30d260141b49f5dd6319a8758a7": {
     "views": [
      {
       "cell_index": 9
      }
     ]
    },
    "a98db2c4643144caac4d00b4732d1c8b": {
     "views": [
      {
       "cell_index": 9
      }
     ]
    },
    "aa3c85ef4ba44ca3824a1510eb2a4f85": {
     "views": [
      {
       "cell_index": 9
      }
     ]
    },
    "abbcfdeaebbd456394587adb938fc894": {
     "views": [
      {
       "cell_index": 9
      }
     ]
    },
    "abd0682732654e2ca4c3baa795559d1d": {
     "views": [
      {
       "cell_index": 9
      }
     ]
    },
    "ac2511d68f8742efa9dd1f75c93e3f1a": {
     "views": [
      {
       "cell_index": 9
      }
     ]
    },
    "aceb0b813f1a4958b28f1fe9ee1e0fd2": {
     "views": [
      {
       "cell_index": 9
      }
     ]
    },
    "aebcdf1570814eff945250d9e1a2de8f": {
     "views": [
      {
       "cell_index": 9
      }
     ]
    },
    "b0005b871e5746d59a27a69618d7e451": {
     "views": [
      {
       "cell_index": 9
      }
     ]
    },
    "b180ed6cb262463ebd503d9f55a3a706": {
     "views": [
      {
       "cell_index": 9
      }
     ]
    },
    "b1c1afa4b513434c854ea3a6e3e78754": {
     "views": [
      {
       "cell_index": 9
      }
     ]
    },
    "b2a2e9076a3649aaa4e3939dc65cad63": {
     "views": [
      {
       "cell_index": 9
      }
     ]
    },
    "b3220ecc0f3347b689172440425edcb3": {
     "views": [
      {
       "cell_index": 9
      }
     ]
    },
    "b32748eaa915422699ad2c2ffda2154a": {
     "views": [
      {
       "cell_index": 9
      }
     ]
    },
    "b36de69d4ff144ddaeb946cb969470bf": {
     "views": [
      {
       "cell_index": 9
      }
     ]
    },
    "b408f96389554cb481e70eb6bf554bb7": {
     "views": [
      {
       "cell_index": 9
      }
     ]
    },
    "b465e3ce78634c1385da9cfdcad3b877": {
     "views": [
      {
       "cell_index": 9
      }
     ]
    },
    "b47e68c1a8ff4d51a11ad63102991596": {
     "views": [
      {
       "cell_index": 9
      }
     ]
    },
    "b5c5cfb3849a42f8aa82ad20520de3e9": {
     "views": [
      {
       "cell_index": 9
      }
     ]
    },
    "b61bef0582384bf381efba0d98f2f2a9": {
     "views": [
      {
       "cell_index": 9
      }
     ]
    },
    "b790965ec06844f6b10fca2ecdf1f8fc": {
     "views": [
      {
       "cell_index": 9
      }
     ]
    },
    "b7d743736201400889984e86c3318dd7": {
     "views": [
      {
       "cell_index": 9
      }
     ]
    },
    "b95a2bdc91b346dfbbff59b4c46e0fbd": {
     "views": [
      {
       "cell_index": 9
      }
     ]
    },
    "ba83af2fb6de4aa29b4e1ab747474ad7": {
     "views": [
      {
       "cell_index": 9
      }
     ]
    },
    "bb654ba488414945a172eeb800cdb5ab": {
     "views": [
      {
       "cell_index": 9
      }
     ]
    },
    "bb907e8838464a10aeb22e9c87147ca1": {
     "views": [
      {
       "cell_index": 9
      }
     ]
    },
    "bc79d83e5bee48ca94d168b5f62f0596": {
     "views": [
      {
       "cell_index": 9
      }
     ]
    },
    "bcfe9a5c3ae1445cb6b0760309c3ed01": {
     "views": [
      {
       "cell_index": 9
      }
     ]
    },
    "bd358c3ac49f4b579fd3e70b42c07bb8": {
     "views": [
      {
       "cell_index": 9
      }
     ]
    },
    "be56c223b9144cfd93c5a98c831830ca": {
     "views": [
      {
       "cell_index": 9
      }
     ]
    },
    "bf1926cb2b554980ae68790fffc94998": {
     "views": [
      {
       "cell_index": 9
      }
     ]
    },
    "c34ab971a9d14aceab13281c20c1c0f6": {
     "views": [
      {
       "cell_index": 9
      }
     ]
    },
    "c3e165eb86e545e49df813b258cd4004": {
     "views": [
      {
       "cell_index": 9
      }
     ]
    },
    "c72cb49585e846d5b63a42fc90a31897": {
     "views": [
      {
       "cell_index": 9
      }
     ]
    },
    "c782c18b759d477bab82b78c3495612a": {
     "views": [
      {
       "cell_index": 9
      }
     ]
    },
    "c803ec282d19496abbcc48cc4b8ba363": {
     "views": [
      {
       "cell_index": 9
      }
     ]
    },
    "c986bb9ad1234b2fbfe52c3f68595348": {
     "views": [
      {
       "cell_index": 9
      }
     ]
    },
    "cab3c2099cac449b9b44c82de266de09": {
     "views": [
      {
       "cell_index": 9
      }
     ]
    },
    "cab3fdba5c3f4114bad03ec71ccc94ba": {
     "views": [
      {
       "cell_index": 9
      }
     ]
    },
    "cafac2e9fb3c4449837486fd33c1a8e1": {
     "views": [
      {
       "cell_index": 9
      }
     ]
    },
    "cc79a9772e0d450dbe36131697f890c0": {
     "views": [
      {
       "cell_index": 9
      }
     ]
    },
    "cc9d4a8479f8410b920ae7f33084aaf5": {
     "views": [
      {
       "cell_index": 9
      }
     ]
    },
    "ccbb9b588d4f4a929f131f92619208bc": {
     "views": [
      {
       "cell_index": 9
      }
     ]
    },
    "cd29067b4703487e87a56224b210f1f7": {
     "views": [
      {
       "cell_index": 9
      }
     ]
    },
    "d035591f762e4f4495053eedb5ac00b0": {
     "views": [
      {
       "cell_index": 9
      }
     ]
    },
    "d10eb5e1a01141d3817bff5ac88d5dd0": {
     "views": [
      {
       "cell_index": 9
      }
     ]
    },
    "d4544c2848d746b2a8887fb655b8cda7": {
     "views": [
      {
       "cell_index": 9
      }
     ]
    },
    "d4912e8092f142bcb62ed1239666082c": {
     "views": [
      {
       "cell_index": 9
      }
     ]
    },
    "d4eb88ed56ca481e85b205cab4e1195c": {
     "views": [
      {
       "cell_index": 9
      }
     ]
    },
    "d6912cf459084d52aa0a8e182a4ef5c0": {
     "views": [
      {
       "cell_index": 9
      }
     ]
    },
    "d795d80b20fd48069916672ab1177791": {
     "views": [
      {
       "cell_index": 9
      }
     ]
    },
    "dc26f6b48d094e82be25ec180e5b6160": {
     "views": [
      {
       "cell_index": 9
      }
     ]
    },
    "dc2c5d4658bd48e2bc6abccda28539b2": {
     "views": [
      {
       "cell_index": 9
      }
     ]
    },
    "dcd64613a9724a548e17e3c027bcdc77": {
     "views": [
      {
       "cell_index": 9
      }
     ]
    },
    "de79fe1475ab49a5a50e07185dcfe491": {
     "views": [
      {
       "cell_index": 9
      }
     ]
    },
    "df8e43d81b054429afeb806a4c832761": {
     "views": [
      {
       "cell_index": 9
      }
     ]
    },
    "dfc8657357b74f44a47b4de866c304cc": {
     "views": [
      {
       "cell_index": 9
      }
     ]
    },
    "e03ca207a9534cc2a7bcb62134994922": {
     "views": [
      {
       "cell_index": 9
      }
     ]
    },
    "e282587973de4011a5dee08369be4be2": {
     "views": [
      {
       "cell_index": 9
      }
     ]
    },
    "e338ed760200462ea611efe65fbfbe58": {
     "views": [
      {
       "cell_index": 9
      }
     ]
    },
    "e4266415a6c24dbab66566229582c088": {
     "views": [
      {
       "cell_index": 9
      }
     ]
    },
    "e497c9a517f2452e9565da8041013a27": {
     "views": [
      {
       "cell_index": 9
      }
     ]
    },
    "e731a666c2aa49069fd3e9dc51826edb": {
     "views": [
      {
       "cell_index": 9
      }
     ]
    },
    "eb694564d7b84319be44c3060c9f698a": {
     "views": [
      {
       "cell_index": 9
      }
     ]
    },
    "eb8b910897a348e99c664b43ed83affa": {
     "views": [
      {
       "cell_index": 9
      }
     ]
    },
    "edef88f15d874f0a8fa20a286aa01ee9": {
     "views": [
      {
       "cell_index": 9
      }
     ]
    },
    "ef1bdcf322734597acb845d9589d9b42": {
     "views": [
      {
       "cell_index": 9
      }
     ]
    },
    "ef4256e096a84d8591b39026aaf74821": {
     "views": [
      {
       "cell_index": 9
      }
     ]
    },
    "ef62d8b734ef4761a74573e0f475ccd4": {
     "views": [
      {
       "cell_index": 9
      }
     ]
    },
    "f06c9126b08b40bcae598b92b617a023": {
     "views": [
      {
       "cell_index": 9
      }
     ]
    },
    "f1ca0e1d90a947b4951a0ae8f201af4d": {
     "views": [
      {
       "cell_index": 9
      }
     ]
    },
    "f31c57c4b42245b9b993a96ff258fb90": {
     "views": [
      {
       "cell_index": 9
      }
     ]
    },
    "f44ef21dfab94cbf8226f5655f50d7c3": {
     "views": [
      {
       "cell_index": 9
      }
     ]
    },
    "f476e3fa3d694b87818f1e70ae392b45": {
     "views": [
      {
       "cell_index": 9
      }
     ]
    },
    "f530ae60e52e447b95718551541ca3ec": {
     "views": [
      {
       "cell_index": 9
      }
     ]
    },
    "f5352c0abcd04870bc1ed4d07f37f073": {
     "views": [
      {
       "cell_index": 9
      }
     ]
    },
    "f5ade428707546fbb25196987328e53e": {
     "views": [
      {
       "cell_index": 9
      }
     ]
    },
    "f6b5ee70a1ab4801a0cd1af04eeb18ef": {
     "views": [
      {
       "cell_index": 9
      }
     ]
    },
    "f6c1cd110ff04b188a80ba12c54a0beb": {
     "views": [
      {
       "cell_index": 9
      }
     ]
    },
    "f8d684ffe1444219971c9e758d081924": {
     "views": [
      {
       "cell_index": 9
      }
     ]
    },
    "f917602de9594d8fbfd0b708cfc44dba": {
     "views": [
      {
       "cell_index": 9
      }
     ]
    },
    "f9691f6160be400188bb53bb33cc9668": {
     "views": [
      {
       "cell_index": 9
      }
     ]
    },
    "f9d02367258b4941afe574140bd61faf": {
     "views": [
      {
       "cell_index": 9
      }
     ]
    },
    "fbae9683abaf4f36851e4551d7a49a46": {
     "views": [
      {
       "cell_index": 9
      }
     ]
    },
    "fbb759b9bff94faba5eda06a571e6f56": {
     "views": [
      {
       "cell_index": 9
      }
     ]
    },
    "fc6098840b0d4d6ba8d3afdda7d7ece2": {
     "views": [
      {
       "cell_index": 9
      }
     ]
    },
    "fd516ae513a14fd68529033618f73fc1": {
     "views": [
      {
       "cell_index": 9
      }
     ]
    },
    "fe1417a738534e518cc3f922139caa51": {
     "views": [
      {
       "cell_index": 9
      }
     ]
    },
    "fecaeb4ffbfd424599122ab11435fe2f": {
     "views": [
      {
       "cell_index": 9
      }
     ]
    }
   },
   "version": "1.2.0"
  }
 },
 "nbformat": 4,
 "nbformat_minor": 2
}
