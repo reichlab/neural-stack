{
 "cells": [
  {
   "cell_type": "markdown",
   "metadata": {},
   "source": [
    "# Stacking upper limit\n",
    "\n",
    "This notebook tries to figure out the upper limit on performance using Degenerate EM stacking on collaborative experimental setting on a per week basis."
   ]
  },
  {
   "cell_type": "code",
   "execution_count": 1,
   "metadata": {},
   "outputs": [],
   "source": [
    "%load_ext autoreload\n",
    "%autoreload 2\n",
    "%matplotlib inline\n",
    "\n",
    "import numpy as np\n",
    "np.random.seed(1234)\n",
    "\n",
    "import sys\n",
    "sys.path.append(\"../src\")"
   ]
  },
  {
   "cell_type": "code",
   "execution_count": 21,
   "metadata": {},
   "outputs": [],
   "source": [
    "import matplotlib.pyplot as plt\n",
    "import pandas as pd\n",
    "import utils.data as udata\n",
    "import utils.dists as udists\n",
    "import utils.misc as u\n",
    "import models\n",
    "import os\n",
    "import losses\n",
    "import yaml\n",
    "\n",
    "from functools import partial\n",
    "from jrun import jin\n",
    "from tqdm import tqdm\n",
    "from copy import deepcopy"
   ]
  },
  {
   "cell_type": "markdown",
   "metadata": {},
   "source": [
    "## Setup notebook parameters"
   ]
  },
  {
   "cell_type": "code",
   "execution_count": 3,
   "metadata": {},
   "outputs": [],
   "source": [
    "EXP_NAME = \"collaborative\"\n",
    "data_dir = \"../data\"\n",
    "exp_dir = os.path.join(data_dir, \"processed\", EXP_NAME)\n",
    "\n",
    "with open(\"../config.yaml\") as fp:\n",
    "    CONFIG = yaml.load(fp)\n",
    "    \n",
    "TEST_SPLIT_THRESH = CONFIG[\"TEST_SPLIT_THRESH\"][EXP_NAME]\n",
    "\n",
    "COMPONENTS = [udata.Component(exp_dir, name) for name in u.available_models(exp_dir)]\n",
    "ACTUAL_DL = udata.ActualDataLoader(data_dir)\n",
    "\n",
    "REGIONS = [\"nat\", *[f\"hhs{i}\" for i in range(1, 11)], None]\n",
    "TARGETS = [udata.Target(t) for t in [1, 2, 3, 4, \"peak\", \"peak_wk\", \"onset_wk\"]]"
   ]
  },
  {
   "cell_type": "markdown",
   "metadata": {},
   "source": [
    "We will work with the target based weights for now. In the usual setting the degenerate EM estimation goes like this:\n",
    "1. (From the training data) Generate `y` (n_obs,) and `Xs` for each target.\n",
    "2. Find log scores for the set above to get a score matrix of shape (n_obs, n_models).\n",
    "3. Pass the (exp-ed) scores to `models.dem` for getting `n_models` weights.\n",
    "4. Follow steps from 1 to finally get `n_models x n_target_type` weights.\n",
    "\n",
    "After getting the weights, we apply them on test data for estimation."
   ]
  },
  {
   "cell_type": "markdown",
   "metadata": {},
   "source": [
    "In this case, we need to check how well the _overfitted_ stacking works.\n",
    "\n",
    "In some ways, this is to check if the components are capable of giving the final results. As an example, if the truth is outside the range of prediction from all the components, no set of weights on the components is going to give us the correct answer.\n",
    "\n",
    "Even if the components do cover the truth, its not guaranteed to get the exact answer because the truth might have been consistently given low value by all the components and adding weight for any component will add weight to _its_ peak too (along with the truth)."
   ]
  },
  {
   "cell_type": "markdown",
   "metadata": {},
   "source": [
    "In this notebook, we try to see how well do the components cover the truth by overfitting degenerate em per `target_type` and week.\n",
    "\n",
    "After this step we will have weight matrix with shape (n_models, n_target_type, n_week). Using the same training data, we will then estimate the log score and look at that."
   ]
  },
  {
   "cell_type": "code",
   "execution_count": 4,
   "metadata": {},
   "outputs": [],
   "source": [
    "def get_weeks(yi):\n",
    "    return np.unique(np.array(yi[:, 0], dtype=np.uint))"
   ]
  },
  {
   "cell_type": "code",
   "execution_count": 16,
   "metadata": {},
   "outputs": [],
   "source": [
    "def do_target(target, final_scores):\n",
    "    for region in [None]:\n",
    "        y, Xs, yi = target.get_training_data(\n",
    "            ACTUAL_DL, COMPONENTS, region, TEST_SPLIT_THRESH\n",
    "        )\n",
    "        y_one_hot = udists.actual_to_one_hot(y, bins=target.bins)\n",
    "        scores = udists.score_predictions(Xs, y)\n",
    "        weeks = get_weeks(yi)\n",
    "    \n",
    "        e_scores = []\n",
    "    \n",
    "        for week in tqdm(weeks):\n",
    "            f_indices = (yi[:, 0] == week) # TODO: Add filter for region when used\n",
    "            Xs_f = [X[f_indices] for X in Xs]\n",
    "            # Estimation step\n",
    "            weights_f = models.dem(np.exp(scores[f_indices]))\n",
    "            # Find the score on the same set\n",
    "            output_f = udists.weighted_ensemble(Xs_f, weights_f)\n",
    "            e_scores.append(losses.mean_cat_cross(y_one_hot[f_indices], output_f))\n",
    "\n",
    "        final_scores[\"region\"].append(region if region else \"all\")\n",
    "        final_scores[\"target\"].append(target.name)\n",
    "        final_scores[\"score\"].append(np.mean(e_scores))\n",
    "    return final_scores"
   ]
  },
  {
   "cell_type": "code",
   "execution_count": 14,
   "metadata": {},
   "outputs": [
    {
     "name": "stdout",
     "output_type": "stream",
     "text": [
      "Working on target 1\n"
     ]
    },
    {
     "name": "stderr",
     "output_type": "stream",
     "text": [
      "100%|██████████| 134/134 [00:07<00:00, 18.62it/s]\n"
     ]
    },
    {
     "name": "stdout",
     "output_type": "stream",
     "text": [
      "Working on target 2\n"
     ]
    },
    {
     "name": "stderr",
     "output_type": "stream",
     "text": [
      "100%|██████████| 134/134 [00:06<00:00, 19.93it/s]\n"
     ]
    },
    {
     "name": "stdout",
     "output_type": "stream",
     "text": [
      "Working on target 3\n"
     ]
    },
    {
     "name": "stderr",
     "output_type": "stream",
     "text": [
      "100%|██████████| 134/134 [00:07<00:00, 18.12it/s]\n"
     ]
    },
    {
     "name": "stdout",
     "output_type": "stream",
     "text": [
      "Working on target 4\n"
     ]
    },
    {
     "name": "stderr",
     "output_type": "stream",
     "text": [
      "100%|██████████| 134/134 [00:08<00:00, 17.11it/s]\n"
     ]
    },
    {
     "name": "stdout",
     "output_type": "stream",
     "text": [
      "Working on target peak\n"
     ]
    },
    {
     "name": "stderr",
     "output_type": "stream",
     "text": [
      "100%|██████████| 134/134 [00:08<00:00, 11.85it/s]\n"
     ]
    },
    {
     "name": "stdout",
     "output_type": "stream",
     "text": [
      "Working on target peak_wk\n"
     ]
    },
    {
     "name": "stderr",
     "output_type": "stream",
     "text": [
      "100%|██████████| 134/134 [00:11<00:00, 11.53it/s]\n"
     ]
    },
    {
     "name": "stdout",
     "output_type": "stream",
     "text": [
      "Working on target onset_wk\n"
     ]
    },
    {
     "name": "stderr",
     "output_type": "stream",
     "text": [
      "100%|██████████| 134/134 [00:09<00:00, 13.94it/s]\n"
     ]
    }
   ],
   "source": [
    "final_scores = {\n",
    "    \"region\": [],\n",
    "    \"target\": [],\n",
    "    \"score\": []\n",
    "} # This will contain all the scores\n",
    "\n",
    "for target in TARGETS:\n",
    "    print(f\"Working on target {target.name}\")\n",
    "    final_scores = do_target(target, final_scores)"
   ]
  },
  {
   "cell_type": "code",
   "execution_count": 20,
   "metadata": {},
   "outputs": [
    {
     "data": {
      "text/html": [
       "<div>\n",
       "<style>\n",
       "    .dataframe thead tr:only-child th {\n",
       "        text-align: right;\n",
       "    }\n",
       "\n",
       "    .dataframe thead th {\n",
       "        text-align: left;\n",
       "    }\n",
       "\n",
       "    .dataframe tbody tr th {\n",
       "        vertical-align: top;\n",
       "    }\n",
       "</style>\n",
       "<table border=\"1\" class=\"dataframe\">\n",
       "  <thead>\n",
       "    <tr style=\"text-align: right;\">\n",
       "      <th></th>\n",
       "      <th>region</th>\n",
       "      <th>score</th>\n",
       "      <th>target</th>\n",
       "    </tr>\n",
       "  </thead>\n",
       "  <tbody>\n",
       "    <tr>\n",
       "      <th>0</th>\n",
       "      <td>all</td>\n",
       "      <td>2.531054</td>\n",
       "      <td>1</td>\n",
       "    </tr>\n",
       "    <tr>\n",
       "      <th>1</th>\n",
       "      <td>all</td>\n",
       "      <td>2.582795</td>\n",
       "      <td>2</td>\n",
       "    </tr>\n",
       "    <tr>\n",
       "      <th>2</th>\n",
       "      <td>all</td>\n",
       "      <td>2.690632</td>\n",
       "      <td>3</td>\n",
       "    </tr>\n",
       "    <tr>\n",
       "      <th>3</th>\n",
       "      <td>all</td>\n",
       "      <td>2.793264</td>\n",
       "      <td>4</td>\n",
       "    </tr>\n",
       "    <tr>\n",
       "      <th>4</th>\n",
       "      <td>all</td>\n",
       "      <td>2.669791</td>\n",
       "      <td>peak</td>\n",
       "    </tr>\n",
       "    <tr>\n",
       "      <th>5</th>\n",
       "      <td>all</td>\n",
       "      <td>1.385797</td>\n",
       "      <td>peak_wk</td>\n",
       "    </tr>\n",
       "    <tr>\n",
       "      <th>6</th>\n",
       "      <td>all</td>\n",
       "      <td>1.179273</td>\n",
       "      <td>onset_wk</td>\n",
       "    </tr>\n",
       "  </tbody>\n",
       "</table>\n",
       "</div>"
      ],
      "text/plain": [
       "  region     score    target\n",
       "0    all  2.531054         1\n",
       "1    all  2.582795         2\n",
       "2    all  2.690632         3\n",
       "3    all  2.793264         4\n",
       "4    all  2.669791      peak\n",
       "5    all  1.385797   peak_wk\n",
       "6    all  1.179273  onset_wk"
      ]
     },
     "execution_count": 20,
     "metadata": {},
     "output_type": "execute_result"
    }
   ],
   "source": [
    "pd.DataFrame(final_scores)"
   ]
  },
  {
   "cell_type": "code",
   "execution_count": null,
   "metadata": {},
   "outputs": [],
   "source": []
  }
 ],
 "metadata": {
  "kernelspec": {
   "display_name": "Python 3",
   "language": "python",
   "name": "python3"
  },
  "language_info": {
   "codemirror_mode": {
    "name": "ipython",
    "version": 3
   },
   "file_extension": ".py",
   "mimetype": "text/x-python",
   "name": "python",
   "nbconvert_exporter": "python",
   "pygments_lexer": "ipython3",
   "version": "3.6.3"
  }
 },
 "nbformat": 4,
 "nbformat_minor": 2
}
