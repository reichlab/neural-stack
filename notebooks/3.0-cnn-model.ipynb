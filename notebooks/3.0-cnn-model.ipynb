{
 "cells": [
  {
   "cell_type": "markdown",
   "metadata": {},
   "source": [
    "# CNN models on distributions"
   ]
  },
  {
   "cell_type": "code",
   "execution_count": 191,
   "metadata": {
    "collapsed": false
   },
   "outputs": [
    {
     "name": "stdout",
     "output_type": "stream",
     "text": [
      "The autoreload extension is already loaded. To reload it, use:\n",
      "  %reload_ext autoreload\n"
     ]
    }
   ],
   "source": [
    "%load_ext autoreload\n",
    "%autoreload 2\n",
    "%matplotlib inline\n",
    "\n",
    "import sys\n",
    "sys.path.append(\"../src/\")\n",
    "from collections import OrderedDict\n",
    "import cellbell"
   ]
  },
  {
   "cell_type": "code",
   "execution_count": 192,
   "metadata": {
    "collapsed": false
   },
   "outputs": [],
   "source": [
    "import pandas as pd\n",
    "import matplotlib.pyplot as plt\n",
    "import numpy as np\n",
    "import utils\n",
    "import json\n",
    "\n",
    "from models import conv1D_distribution, conv2D_distribution\n",
    "from keras_tqdm import TQDMNotebookCallback\n",
    "from IPython.display import SVG\n",
    "from keras.utils.visualize_util import model_to_dot\n",
    "from sklearn.model_selection import train_test_split\n",
    "from hyperopt import fmin, tpe, hp, STATUS_OK"
   ]
  },
  {
   "cell_type": "code",
   "execution_count": 193,
   "metadata": {
    "collapsed": false
   },
   "outputs": [],
   "source": [
    "data_file = \"../data/processed/ensemble-data.h5\"\n",
    "identifiers = pd.read_hdf(data_file, \"predictions/identifiers\")\n",
    "one_week = pd.read_hdf(data_file, \"predictions/one_week\")\n",
    "two_weeks = pd.read_hdf(data_file, \"predictions/two_weeks\")\n",
    "three_weeks = pd.read_hdf(data_file, \"predictions/three_weeks\")\n",
    "four_weeks = pd.read_hdf(data_file, \"predictions/four_weeks\")\n",
    "\n",
    "wk_ahead_predictions = [one_week, two_weeks, three_weeks, four_weeks]\n",
    "actual = pd.read_hdf(data_file, \"actual\")"
   ]
  },
  {
   "cell_type": "markdown",
   "metadata": {},
   "source": [
    "## Mix models for a prediction week"
   ]
  },
  {
   "cell_type": "code",
   "execution_count": 194,
   "metadata": {
    "collapsed": false
   },
   "outputs": [],
   "source": [
    "week = 3 # from 0 to 3\n",
    "week_targets = [\"one-week\", \"two-weeks\", \"three-weeks\", \"four-weeks\"]\n",
    "\n",
    "# Get common identifiers\n",
    "df = pd.concat([identifiers, wk_ahead_predictions[week]], axis=1)\n",
    "\n",
    "df[\"key\"] = df[\"time\"].map(str) + df[\"region\"]\n",
    "models = [\"kde\", \"kcde\", \"sarima\"]\n",
    "\n",
    "intersection = np.intersect1d(df[df[\"model\"] == models[0]][\"key\"],\n",
    "                              df[df[\"model\"] == models[1]][\"key\"])\n",
    "intersection = np.intersect1d(intersection, df[df[\"model\"] == models[2]][\"key\"])\n",
    "\n",
    "df = df[df[\"key\"].isin(intersection)]\n",
    "df = df.drop(\"key\", axis=1)\n",
    "\n",
    "# Shift actual to handle one week ahead prediction\n",
    "actual[\"time\"] = actual[\"time\"] - 1 - week\n",
    "df = pd.merge(actual, df, how=\"inner\", on=[\"region\", \"time\"])\n",
    "\n",
    "df = df.sort_values([\"model\", \"region\", \"time\"])"
   ]
  },
  {
   "cell_type": "code",
   "execution_count": 195,
   "metadata": {
    "collapsed": false
   },
   "outputs": [],
   "source": [
    "kcde = df[df[\"model\"] == \"kcde\"]\n",
    "kde = df[df[\"model\"] == \"kde\"]\n",
    "sarima = df[df[\"model\"] == \"sarima\"]\n",
    "\n",
    "assert kcde.shape == kde.shape == sarima.shape"
   ]
  },
  {
   "cell_type": "markdown",
   "metadata": {},
   "source": [
    "### Convert y to categories"
   ]
  },
  {
   "cell_type": "code",
   "execution_count": 196,
   "metadata": {
    "collapsed": false
   },
   "outputs": [],
   "source": [
    "n_bins = 131 # from 0 to 13 in steps of 0.1\n",
    "bins = np.linspace(0, 13, num=n_bins)\n",
    "Y = np.zeros((len(kcde), n_bins))\n",
    "\n",
    "for i, elem in enumerate(kcde[\"actual\"]):\n",
    "    index = np.sum(elem > bins) - 1\n",
    "    Y[i, index] = 1"
   ]
  },
  {
   "cell_type": "code",
   "execution_count": 197,
   "metadata": {
    "collapsed": false
   },
   "outputs": [],
   "source": [
    "X = np.exp(np.stack([kcde.iloc[:, 4:], kde.iloc[:, 4:], sarima.iloc[:, 4:]], axis=-1))"
   ]
  },
  {
   "cell_type": "code",
   "execution_count": 198,
   "metadata": {
    "collapsed": false
   },
   "outputs": [],
   "source": [
    "X_week = kcde[\"time\"].as_matrix() % 100"
   ]
  },
  {
   "cell_type": "markdown",
   "metadata": {},
   "source": [
    "### Training"
   ]
  },
  {
   "cell_type": "code",
   "execution_count": 199,
   "metadata": {
    "collapsed": true
   },
   "outputs": [],
   "source": [
    "X_train, X_test, X_week_train, X_week_test, Y_train, Y_test = train_test_split(X, X_week, Y,\n",
    "                                                                               test_size=0.2, random_state=1234)"
   ]
  },
  {
   "cell_type": "code",
   "execution_count": 200,
   "metadata": {
    "collapsed": true
   },
   "outputs": [],
   "source": [
    "# Load pretrained embeddings\n",
    "emb = np.load(\"../data/processed/week_embeddings.npy\")"
   ]
  },
  {
   "cell_type": "code",
   "execution_count": 201,
   "metadata": {
    "collapsed": false
   },
   "outputs": [],
   "source": [
    "model = conv1D_distribution(3, n_bins, 20)\n",
    "modelEmb = conv1D_distribution(3, n_bins, 20, week_embedding_matrix=emb)"
   ]
  },
  {
   "cell_type": "code",
   "execution_count": 202,
   "metadata": {
    "collapsed": true
   },
   "outputs": [],
   "source": [
    "# model.summary()"
   ]
  },
  {
   "cell_type": "code",
   "execution_count": 203,
   "metadata": {
    "collapsed": true
   },
   "outputs": [],
   "source": [
    "# modelEmb.summary()"
   ]
  },
  {
   "cell_type": "code",
   "execution_count": 204,
   "metadata": {
    "collapsed": false
   },
   "outputs": [],
   "source": [
    "model.compile(optimizer=\"adam\", loss=\"categorical_crossentropy\")\n",
    "modelEmb.compile(optimizer=\"adam\", loss=\"categorical_crossentropy\")"
   ]
  },
  {
   "cell_type": "code",
   "execution_count": 205,
   "metadata": {
    "collapsed": false
   },
   "outputs": [],
   "source": [
    "history = model.fit([X_train, X_week_train], Y_train,\n",
    "                    batch_size=64, nb_epoch=25,\n",
    "                    verbose=0, callbacks=[TQDMNotebookCallback()],\n",
    "                    validation_split=0.2)"
   ]
  },
  {
   "cell_type": "code",
   "execution_count": 206,
   "metadata": {
    "collapsed": false
   },
   "outputs": [
    {
     "data": {
      "text/plain": [
       "[<matplotlib.lines.Line2D at 0x7fdf3f8cc6a0>]"
      ]
     },
     "execution_count": 206,
     "metadata": {},
     "output_type": "execute_result"
    },
    {
     "data": {
      "image/png": "[encoded data removed]",
      "text/plain": [
       "<matplotlib.figure.Figure at 0x7fdf3f8cc5c0>"
      ]
     },
     "metadata": {},
     "output_type": "display_data"
    }
   ],
   "source": [
    "plt.plot(history.history[\"loss\"])\n",
    "plt.plot(history.history[\"val_loss\"])"
   ]
  },
  {
   "cell_type": "code",
   "execution_count": 207,
   "metadata": {
    "collapsed": false
   },
   "outputs": [],
   "source": [
    "history = modelEmb.fit([X_train, X_week_train], Y_train,\n",
    "                       batch_size=64, nb_epoch=25,\n",
    "                       verbose=0, callbacks=[TQDMNotebookCallback()],\n",
    "                       validation_split=0.2)"
   ]
  },
  {
   "cell_type": "code",
   "execution_count": 208,
   "metadata": {
    "collapsed": false
   },
   "outputs": [],
   "source": [
    "# plt.plot(history.history[\"loss\"])\n",
    "# plt.plot(history.history[\"val_loss\"])"
   ]
  },
  {
   "cell_type": "code",
   "execution_count": 209,
   "metadata": {
    "collapsed": false
   },
   "outputs": [],
   "source": [
    "out = model.predict([X_test, X_week_test])\n",
    "outEmb = modelEmb.predict([X_test, X_week_test])"
   ]
  },
  {
   "cell_type": "code",
   "execution_count": 210,
   "metadata": {
    "collapsed": true
   },
   "outputs": [],
   "source": [
    "# for i in range(10):\n",
    "#     index = np.random.randint(0, len(out))\n",
    "#     plt.figure(figsize=(10, 7))\n",
    "#     plt.axvline(x=bins[np.where(Y_test[index] == 1)[0][0]], linewidth=5, color=\"k\", alpha=0.2)\n",
    "#     plt.plot(bins, X_test[index][:, 0], linestyle=\"--\", label=\"kcde\")\n",
    "#     plt.plot(bins, X_test[index][:, 1], linestyle=\"--\", label=\"kde\")\n",
    "#     plt.plot(bins, X_test[index][:, 2], linestyle=\"--\", label=\"sarima\")\n",
    "#     plt.plot(bins, out[index], color=\"k\", alpha=0.7, label=\"ensemble\")\n",
    "#     plt.plot(bins, outEmb[index], color=\"m\", alpha=0.7, label=\"ensemble + emb\")\n",
    "#     plt.xlabel(\"% wili\")\n",
    "#     plt.ylabel(\"probability\")\n",
    "#     plt.legend()"
   ]
  },
  {
   "cell_type": "markdown",
   "metadata": {},
   "source": [
    "## Save models"
   ]
  },
  {
   "cell_type": "code",
   "execution_count": 211,
   "metadata": {
    "collapsed": false
   },
   "outputs": [
    {
     "data": {
      "text/plain": [
       "<keras.callbacks.History at 0x7fdf411c82b0>"
      ]
     },
     "execution_count": 211,
     "metadata": {},
     "output_type": "execute_result"
    }
   ],
   "source": [
    "emb = np.load(\"../data/processed/week_embeddings.npy\")\n",
    "\n",
    "model = conv1D_distribution(3, n_bins, 20)\n",
    "modelEmb = conv1D_distribution(3, n_bins, 20, week_embedding_matrix=emb)\n",
    "\n",
    "model.compile(optimizer=\"adam\", loss=\"categorical_crossentropy\")\n",
    "modelEmb.compile(optimizer=\"adam\", loss=\"categorical_crossentropy\")\n",
    "\n",
    "model.fit([X, X_week], Y, batch_size=64, nb_epoch=25, verbose=0)\n",
    "modelEmb.fit([X, X_week], Y, batch_size=64, nb_epoch=25, verbose=0)"
   ]
  },
  {
   "cell_type": "code",
   "execution_count": 212,
   "metadata": {
    "collapsed": true
   },
   "outputs": [],
   "source": [
    "model.save(f\"../data/models/{week_targets[week]}/cnn-1d\")\n",
    "modelEmb.save(f\"../data/models/{week_targets[week]}/cnn-1d-emb\")"
   ]
  },
  {
   "cell_type": "markdown",
   "metadata": {},
   "source": [
    "## Smooth output"
   ]
  },
  {
   "cell_type": "code",
   "execution_count": 213,
   "metadata": {
    "collapsed": true
   },
   "outputs": [],
   "source": [
    "def smooth(x, window_len, window):\n",
    "\n",
    "    if window_len < 3:\n",
    "        return x\n",
    "    \n",
    "    if window == \"flat\":\n",
    "        w = np.ones(window_len)\n",
    "    else:\n",
    "        w = eval(\"np.\" + window + \"(window_len)\")\n",
    "        \n",
    "    y = np.convolve(w / w.sum(), x, mode=\"same\")\n",
    "    return y"
   ]
  },
  {
   "cell_type": "markdown",
   "metadata": {},
   "source": [
    "## Hyperopt over smoothing parameters"
   ]
  },
  {
   "cell_type": "code",
   "execution_count": 214,
   "metadata": {
    "collapsed": true
   },
   "outputs": [],
   "source": [
    "def get_objective(mat):\n",
    "    \n",
    "    def objective(args):\n",
    "        \"\"\"\n",
    "        Run over Y_test\n",
    "        \"\"\"\n",
    "\n",
    "        ws, window = args\n",
    "        matSm = np.zeros_like(mat)\n",
    "        for i in range(mat.shape[0]):\n",
    "            matSm[i] = smooth(mat[i], ws, window)\n",
    "        return {\n",
    "            \"loss\": utils.crossentropy_loss(Y_test, matSm).mean(),\n",
    "            \"status\": STATUS_OK\n",
    "        }\n",
    "    return objective"
   ]
  },
  {
   "cell_type": "code",
   "execution_count": 215,
   "metadata": {
    "collapsed": false
   },
   "outputs": [],
   "source": [
    "windows = [\"flat\", \"hanning\", \"hamming\", \"bartlett\", \"blackman\"]\n",
    "\n",
    "best = fmin(get_objective(out), space=[hp.randint(\"ws\", 30), hp.choice(\"window\", windows)], algo=tpe.suggest, max_evals=50)\n",
    "bestEmb = fmin(get_objective(outEmb), space=[hp.randint(\"ws\", 30), hp.choice(\"window\", windows)], algo=tpe.suggest, max_evals=50)"
   ]
  },
  {
   "cell_type": "code",
   "execution_count": 216,
   "metadata": {
    "collapsed": true
   },
   "outputs": [],
   "source": [
    "outSm = np.zeros_like(out)\n",
    "outEmbSm = np.zeros_like(outEmb)\n",
    "for i in range(out.shape[0]):\n",
    "    outSm[i] = smooth(out[i], best[\"ws\"], windows[best[\"window\"]])\n",
    "    outEmbSm[i] = smooth(out[i], bestEmb[\"ws\"], windows[bestEmb[\"window\"]])"
   ]
  },
  {
   "cell_type": "markdown",
   "metadata": {},
   "source": [
    "## Save smoothing parameters"
   ]
  },
  {
   "cell_type": "code",
   "execution_count": 217,
   "metadata": {
    "collapsed": false
   },
   "outputs": [],
   "source": [
    "with open(f\"../data/models/{week_targets[week]}/cnn-1d-smoothing-params\", \"w\") as f:\n",
    "    json.dump({\n",
    "        \"ws\": best[\"ws\"],\n",
    "        \"window\": windows[best[\"window\"]]\n",
    "    }, f)\n",
    "\n",
    "with open(f\"../data/models/{week_targets[week]}/cnn-1d-emb-smoothing-params\", \"w\") as f:\n",
    "    json.dump({\n",
    "        \"ws\": bestEmb[\"ws\"],\n",
    "        \"window\": windows[bestEmb[\"window\"]]\n",
    "    }, f)"
   ]
  },
  {
   "cell_type": "code",
   "execution_count": 218,
   "metadata": {
    "collapsed": false,
    "scrolled": false
   },
   "outputs": [
    {
     "name": "stdout",
     "output_type": "stream",
     "text": [
      "Crossentropy loss\n",
      "\n",
      "kcde: 3.67591598485\n",
      "kde: 3.5358088474\n",
      "sarima: 3.60950279065\n",
      "ensemble (conv1d): 3.33715413477\n",
      "ensemble (conv1d+emb): 3.35889262145\n",
      "ensemble (conv1d+smooth): 3.29118268166\n",
      "ensemble (conv1d+emb+smooth): 3.29030317301\n"
     ]
    }
   ],
   "source": [
    "# print losses\n",
    "print(\"Crossentropy loss\\n\")\n",
    "print(\"kcde:\", utils.crossentropy_loss(Y_test, X_test[:, :, 0]).mean())\n",
    "print(\"kde:\", utils.crossentropy_loss(Y_test, X_test[:, :, 1]).mean())\n",
    "print(\"sarima:\", utils.crossentropy_loss(Y_test, X_test[:, :, 2]).mean())\n",
    "print(\"ensemble (conv1d):\", utils.crossentropy_loss(Y_test, out).mean())\n",
    "print(\"ensemble (conv1d+emb):\", utils.crossentropy_loss(Y_test, outEmb).mean())\n",
    "print(\"ensemble (conv1d+smooth):\", utils.crossentropy_loss(Y_test, outSm).mean())\n",
    "print(\"ensemble (conv1d+emb+smooth):\", utils.crossentropy_loss(Y_test, outEmbSm).mean())"
   ]
  },
  {
   "cell_type": "code",
   "execution_count": null,
   "metadata": {
    "collapsed": true
   },
   "outputs": [],
   "source": []
  }
 ],
 "metadata": {
  "kernelspec": {
   "display_name": "Python 3",
   "language": "python",
   "name": "python3"
  },
  "language_info": {
   "codemirror_mode": {
    "name": "ipython",
    "version": 3
   },
   "file_extension": ".py",
   "mimetype": "text/x-python",
   "name": "python",
   "nbconvert_exporter": "python",
   "pygments_lexer": "ipython3",
   "version": "3.6.0"
  },
  "widgets": {
   "state": {
    "00e2d950689841299fc06c95c716886b": {
     "views": [
      {
       "cell_index": 20
      }
     ]
    },
    "012b50a231a845308d1988fb03d1bd0c": {
     "views": [
      {
       "cell_index": 20
      }
     ]
    },
    "023ad2818ed04cc19eb5916f24607de5": {
     "views": [
      {
       "cell_index": 20
      }
     ]
    },
    "04179b3acee14ac4aefef98d4ed7b0f2": {
     "views": [
      {
       "cell_index": 20
      }
     ]
    },
    "0507776847b14f5c92c9109d6bb2e63f": {
     "views": [
      {
       "cell_index": 20
      }
     ]
    },
    "06e2378188804163bf4b8b40b86dea8d": {
     "views": [
      {
       "cell_index": 18
      }
     ]
    },
    "0801c23cbedc4f3b8df87b4877034a64": {
     "views": [
      {
       "cell_index": 18
      }
     ]
    },
    "08df9cdcf3ea4ed59f04ef9c444e1e3c": {
     "views": [
      {
       "cell_index": 18
      }
     ]
    },
    "0b0d56c7213f424e9f7228d0a6ad232a": {
     "views": [
      {
       "cell_index": 20
      }
     ]
    },
    "0b8c9c537d734287a2aceaef9533bd57": {
     "views": [
      {
       "cell_index": 18
      }
     ]
    },
    "0ba548432a0a4facb34ba14158960c25": {
     "views": [
      {
       "cell_index": 20
      }
     ]
    },
    "0cf07f8a421d4dcaa39cc307e67f8dce": {
     "views": [
      {
       "cell_index": 20
      }
     ]
    },
    "0d955191fefb478ea97b3c37086cd69c": {
     "views": [
      {
       "cell_index": 18
      }
     ]
    },
    "0e48bfc9141e4f17a4c70b42589d1c3c": {
     "views": [
      {
       "cell_index": 20
      }
     ]
    },
    "0f7ed913f802470889d860a3b8a8a939": {
     "views": [
      {
       "cell_index": 18
      }
     ]
    },
    "108a0a79d06c4bffbf070e62758ff2ff": {
     "views": [
      {
       "cell_index": 18
      }
     ]
    },
    "1219345ae87c438285a583f50e3b45ff": {
     "views": [
      {
       "cell_index": 20
      }
     ]
    },
    "129cbc07dc264c15a4e1ee3f9b156461": {
     "views": [
      {
       "cell_index": 20
      }
     ]
    },
    "1434488c1f194af9a97a2704c9c85bb1": {
     "views": [
      {
       "cell_index": 20
      }
     ]
    },
    "145256c4cdea4905810e0d7b52252405": {
     "views": [
      {
       "cell_index": 20
      }
     ]
    },
    "1672d402e6474498a8741f6970152f75": {
     "views": [
      {
       "cell_index": 20
      }
     ]
    },
    "1836c2f040724c33a0b9e1eaafed9f60": {
     "views": [
      {
       "cell_index": 18
      }
     ]
    },
    "18e81130b1e4426ea7a5cf288bdd8920": {
     "views": [
      {
       "cell_index": 18
      }
     ]
    },
    "192a465642fe48abba1174332859c2d3": {
     "views": [
      {
       "cell_index": 20
      }
     ]
    },
    "2014fc6ff670461fbaebd1a4b6198734": {
     "views": [
      {
       "cell_index": 18
      }
     ]
    },
    "2136d4338dcc495cb725bfd88f6f96dc": {
     "views": [
      {
       "cell_index": 20
      }
     ]
    },
    "23e253e755df41a48a7137f1d205c595": {
     "views": [
      {
       "cell_index": 20
      }
     ]
    },
    "23fe3fc499df425da75bd83dad7eab8e": {
     "views": [
      {
       "cell_index": 20
      }
     ]
    },
    "253aff41384142e199d42a97b614466f": {
     "views": [
      {
       "cell_index": 20
      }
     ]
    },
    "26138fd8ae184c3093566d4a3d44dcb5": {
     "views": [
      {
       "cell_index": 20
      }
     ]
    },
    "284de248628b4da6bf18b62ddacb8b9f": {
     "views": [
      {
       "cell_index": 20
      }
     ]
    },
    "2bfedb63fdfd4279829be7986a7414bf": {
     "views": [
      {
       "cell_index": 18
      }
     ]
    },
    "2c6c511630964dddb5fd8f67cbca7dd7": {
     "views": [
      {
       "cell_index": 18
      }
     ]
    },
    "2cb5b642ed14454a886076748d505bc0": {
     "views": [
      {
       "cell_index": 18
      }
     ]
    },
    "2f7d1aa7a4e8469cb01b47bfd9d01eae": {
     "views": [
      {
       "cell_index": 20
      }
     ]
    },
    "2fe56d855b6e4961a59d75dd609b6053": {
     "views": [
      {
       "cell_index": 18
      }
     ]
    },
    "3027cb83c3444387a7407a32ae67ec05": {
     "views": [
      {
       "cell_index": 20
      }
     ]
    },
    "322efb6d954b45f98003e3ba2864c93d": {
     "views": [
      {
       "cell_index": 18
      }
     ]
    },
    "32a3b6b80439476aa83c2f11055f6cce": {
     "views": [
      {
       "cell_index": 20
      }
     ]
    },
    "3409bb4c231a447ab0b918db26f3c9a6": {
     "views": [
      {
       "cell_index": 18
      }
     ]
    },
    "34c1f46d0b004ae7851dcc42e9d3f8aa": {
     "views": [
      {
       "cell_index": 18
      }
     ]
    },
    "360c5b55abe9431bb7a57467814804d4": {
     "views": [
      {
       "cell_index": 20
      }
     ]
    },
    "36824dc9f95d440ba47f3dcff1a5a087": {
     "views": [
      {
       "cell_index": 18
      }
     ]
    },
    "380796a267834a38851bf389d5afd1ef": {
     "views": [
      {
       "cell_index": 20
      }
     ]
    },
    "3a03982b839e43bd907e8ba8d589bf55": {
     "views": [
      {
       "cell_index": 20
      }
     ]
    },
    "3a2d546f51614af4bd7835eddf96b28e": {
     "views": [
      {
       "cell_index": 20
      }
     ]
    },
    "4122c3405f0f4a7fb456d1ee23657778": {
     "views": [
      {
       "cell_index": 18
      }
     ]
    },
    "42b7559f8ab44da785473257b8a0bba9": {
     "views": [
      {
       "cell_index": 18
      }
     ]
    },
    "44f254e87ff146e3b4c7eeb3b0fe8402": {
     "views": [
      {
       "cell_index": 18
      }
     ]
    },
    "4595c9b7f25a4405a7d7730e96604848": {
     "views": [
      {
       "cell_index": 18
      }
     ]
    },
    "47e65594dd2b4a1d8ab4f040762867bf": {
     "views": [
      {
       "cell_index": 18
      }
     ]
    },
    "4918b82ede3040e1a724b1a1034f0da5": {
     "views": [
      {
       "cell_index": 18
      }
     ]
    },
    "49a2d60711c74902be4436a0f1aa4a6a": {
     "views": [
      {
       "cell_index": 18
      }
     ]
    },
    "4b814e0322ec4236bc197b63ff82aa11": {
     "views": [
      {
       "cell_index": 20
      }
     ]
    },
    "4bce4f9d75114e77826d72a759796bd8": {
     "views": [
      {
       "cell_index": 20
      }
     ]
    },
    "4d1aee76043344bf9f19b7121b96cfc8": {
     "views": [
      {
       "cell_index": 20
      }
     ]
    },
    "4d7e0ba5cbe1432c9260043db00180d3": {
     "views": [
      {
       "cell_index": 18
      }
     ]
    },
    "4d9155ac0d9448ce915c3745b3ce0472": {
     "views": [
      {
       "cell_index": 20
      }
     ]
    },
    "4dc51c01606a466da1dc062607add41c": {
     "views": [
      {
       "cell_index": 18
      }
     ]
    },
    "4dc827f484374ca6957c35ee7392eaa8": {
     "views": [
      {
       "cell_index": 18
      }
     ]
    },
    "4e44c8e207924845858c05d5c1f48a6f": {
     "views": [
      {
       "cell_index": 18
      }
     ]
    },
    "4f3a3f634fd94dbfbe400f6ade1a694f": {
     "views": [
      {
       "cell_index": 20
      }
     ]
    },
    "50f1fe6b41a54faf8339423d5a86f686": {
     "views": [
      {
       "cell_index": 18
      }
     ]
    },
    "5153eb3d418f43378c8397f7330fc7be": {
     "views": [
      {
       "cell_index": 20
      }
     ]
    },
    "51d3ff3647fa431cac320fbab7e11493": {
     "views": [
      {
       "cell_index": 18
      }
     ]
    },
    "5442dff497794bacb3b120fa27a28bbf": {
     "views": [
      {
       "cell_index": 20
      }
     ]
    },
    "578235f728054563bc23338ba29193e8": {
     "views": [
      {
       "cell_index": 20
      }
     ]
    },
    "57942472eea14b759f164e521de9c8c6": {
     "views": [
      {
       "cell_index": 20
      }
     ]
    },
    "59046259084c4f0dab065a602b7ba067": {
     "views": [
      {
       "cell_index": 20
      }
     ]
    },
    "5a682105337e4fe79cace243824f7ce2": {
     "views": [
      {
       "cell_index": 18
      }
     ]
    },
    "5addbe70007b46538c24bc235cd44a1e": {
     "views": [
      {
       "cell_index": 18
      }
     ]
    },
    "5ae716a8f20546728b7b97ce6216a0a0": {
     "views": [
      {
       "cell_index": 18
      }
     ]
    },
    "5b056587f3064088aff74caecf645b75": {
     "views": [
      {
       "cell_index": 18
      }
     ]
    },
    "5bce81a0e9e744da91c5626dc0f5bfa2": {
     "views": [
      {
       "cell_index": 18
      }
     ]
    },
    "629ab23bdb7c403eaab42995f290bd5f": {
     "views": [
      {
       "cell_index": 18
      }
     ]
    },
    "633a76ca71cc4a76845fee58332120ae": {
     "views": [
      {
       "cell_index": 20
      }
     ]
    },
    "6470a96b9736475f8d14f13548be1fe9": {
     "views": [
      {
       "cell_index": 18
      }
     ]
    },
    "65da683a5147416aa8c4f0f3a4eed2e1": {
     "views": [
      {
       "cell_index": 20
      }
     ]
    },
    "662a9ab5178647cfa899e1f480e1a247": {
     "views": [
      {
       "cell_index": 18
      }
     ]
    },
    "676bcdfd5846457381c08e1d3d5e59d0": {
     "views": [
      {
       "cell_index": 18
      }
     ]
    },
    "68b2c4adb4f44d6b9a94a79198c3272f": {
     "views": [
      {
       "cell_index": 20
      }
     ]
    },
    "68e8351277fa4da7a33b29a3f3c7991f": {
     "views": [
      {
       "cell_index": 18
      }
     ]
    },
    "6937864d98ff4746b37f691e0e9ce168": {
     "views": [
      {
       "cell_index": 20
      }
     ]
    },
    "6a21a95d8198408a89bcf0c453e76ed1": {
     "views": [
      {
       "cell_index": 18
      }
     ]
    },
    "6a613a350d114c7dadd1b792de3d2c36": {
     "views": [
      {
       "cell_index": 20
      }
     ]
    },
    "6cc213a7351e4075b6bd6b39b8cc3253": {
     "views": [
      {
       "cell_index": 18
      }
     ]
    },
    "71f8f1f9a30c4b94a83b90b241a1e881": {
     "views": [
      {
       "cell_index": 18
      }
     ]
    },
    "729584c3cd144e90982324c7598c4422": {
     "views": [
      {
       "cell_index": 18
      }
     ]
    },
    "7565f094a6e049028d7928dc9ac03dcb": {
     "views": [
      {
       "cell_index": 20
      }
     ]
    },
    "75b922ea1e274da39577ea255a4c52a3": {
     "views": [
      {
       "cell_index": 20
      }
     ]
    },
    "7646ffc18ed947f9979686451680e05a": {
     "views": [
      {
       "cell_index": 18
      }
     ]
    },
    "79b00bf123bf44f09f5ebfc4572db2d7": {
     "views": [
      {
       "cell_index": 18
      }
     ]
    },
    "7adf1a21d2a14bf0aa7afe82a98464bb": {
     "views": [
      {
       "cell_index": 18
      }
     ]
    },
    "7bd82b9bcd4c4622ab8f044cd8b42abc": {
     "views": [
      {
       "cell_index": 18
      }
     ]
    },
    "7ccb18ce036a443ea119f8f43306e890": {
     "views": [
      {
       "cell_index": 18
      }
     ]
    },
    "7d8022f972ab4f16b183357435e5366b": {
     "views": [
      {
       "cell_index": 18
      }
     ]
    },
    "7e12c730040a49928248248d8078b3db": {
     "views": [
      {
       "cell_index": 20
      }
     ]
    },
    "7ea468ae64464cf6ab6f7502ef4b0c65": {
     "views": [
      {
       "cell_index": 20
      }
     ]
    },
    "7f90e36a70de4e24974f1b8f41ee9908": {
     "views": [
      {
       "cell_index": 20
      }
     ]
    },
    "7fcd318679cc4b36b16eb37e97bfaf76": {
     "views": [
      {
       "cell_index": 20
      }
     ]
    },
    "80d4733cdb8745b78f5d7778ce04d7c5": {
     "views": [
      {
       "cell_index": 20
      }
     ]
    },
    "810432adf33f4fe592e4a3522d75168a": {
     "views": [
      {
       "cell_index": 20
      }
     ]
    },
    "858a8d34d6b44b98b7f6d577b0738517": {
     "views": [
      {
       "cell_index": 20
      }
     ]
    },
    "865c6b7683384326b49f4a8832843d68": {
     "views": [
      {
       "cell_index": 18
      }
     ]
    },
    "8890edb03719407f9b194dcf1ae31385": {
     "views": [
      {
       "cell_index": 18
      }
     ]
    },
    "88aacb0cc98f42fcb48b6d697de9acea": {
     "views": [
      {
       "cell_index": 20
      }
     ]
    },
    "88c91d9e72724af0b093d0427f7ab4b1": {
     "views": [
      {
       "cell_index": 20
      }
     ]
    },
    "88d8ba0310a84242a7a9fef1fe5530dd": {
     "views": [
      {
       "cell_index": 18
      }
     ]
    },
    "892222fa082e4c85b9355b631ef21c7a": {
     "views": [
      {
       "cell_index": 20
      }
     ]
    },
    "8a560b97158d407e80f4038cbedd735a": {
     "views": [
      {
       "cell_index": 18
      }
     ]
    },
    "8c63187c42524c778289f888c8667ecb": {
     "views": [
      {
       "cell_index": 18
      }
     ]
    },
    "8cf7bdb2e60443c194c7abbb006ef8ae": {
     "views": [
      {
       "cell_index": 18
      }
     ]
    },
    "8f14ffbe26cb4c87a2b7e936fe5fbd13": {
     "views": [
      {
       "cell_index": 20
      }
     ]
    },
    "8fd434c47e594224af049d3e3196419b": {
     "views": [
      {
       "cell_index": 18
      }
     ]
    },
    "90618e8c062e420880225c3a08411b1b": {
     "views": [
      {
       "cell_index": 18
      }
     ]
    },
    "9463b3707e8f442a89635fa6a1dc4a72": {
     "views": [
      {
       "cell_index": 18
      }
     ]
    },
    "9810c3ba60704f14b922e4cc5a96f803": {
     "views": [
      {
       "cell_index": 18
      }
     ]
    },
    "9af2892871e34fbc86c6720978f79ed6": {
     "views": [
      {
       "cell_index": 20
      }
     ]
    },
    "9b8161ec8d334b378b5c144b90c0c720": {
     "views": [
      {
       "cell_index": 18
      }
     ]
    },
    "9d43aeebf7e841f7b4e6bcc54f124319": {
     "views": [
      {
       "cell_index": 18
      }
     ]
    },
    "9e06ce98769141189ca111a75498c72d": {
     "views": [
      {
       "cell_index": 20
      }
     ]
    },
    "9ec49f7862084a05867690ab7da90627": {
     "views": [
      {
       "cell_index": 18
      }
     ]
    },
    "9f65fdc905fd480680cdea2e09b654aa": {
     "views": [
      {
       "cell_index": 18
      }
     ]
    },
    "9fe0e2d5863d4ebaa2a032ce5e343914": {
     "views": [
      {
       "cell_index": 20
      }
     ]
    },
    "a1976eead7b14a758d030fa67252dd12": {
     "views": [
      {
       "cell_index": 20
      }
     ]
    },
    "a1b4ccd5bd5543c3a5bb0105f0b3d07e": {
     "views": [
      {
       "cell_index": 18
      }
     ]
    },
    "a38df1c503724488851846c1f4a1e51f": {
     "views": [
      {
       "cell_index": 20
      }
     ]
    },
    "a7bf7b2f3d474e19808ae8730b675794": {
     "views": [
      {
       "cell_index": 18
      }
     ]
    },
    "a861206b9f9c4b609de2ddf6ca506947": {
     "views": [
      {
       "cell_index": 20
      }
     ]
    },
    "a8c0d75066ac479992ade49c64cc242b": {
     "views": [
      {
       "cell_index": 20
      }
     ]
    },
    "a94d9f65e1164dd7bc48cae92c2632fb": {
     "views": [
      {
       "cell_index": 20
      }
     ]
    },
    "a9bda23b1741491ab4f72d70d4d86920": {
     "views": [
      {
       "cell_index": 18
      }
     ]
    },
    "a9cfe7ad092744eca03d19f4fa0c45eb": {
     "views": [
      {
       "cell_index": 18
      }
     ]
    },
    "aa69600bd9204f8b845bf6c4e9ea470b": {
     "views": [
      {
       "cell_index": 20
      }
     ]
    },
    "aad441c2a41f499bbda2ca5b20c9d52c": {
     "views": [
      {
       "cell_index": 18
      }
     ]
    },
    "aeee2448fa2849c9a3d925989c3340a0": {
     "views": [
      {
       "cell_index": 18
      }
     ]
    },
    "af92bd2a29b2444599c74fb092e80961": {
     "views": [
      {
       "cell_index": 18
      }
     ]
    },
    "b0b5dc499ce8484998ad9b5e523291a2": {
     "views": [
      {
       "cell_index": 18
      }
     ]
    },
    "b4b2babdd8464ba981c7b526369459df": {
     "views": [
      {
       "cell_index": 18
      }
     ]
    },
    "b7a42e3a67074973a73177b02cd706db": {
     "views": [
      {
       "cell_index": 18
      }
     ]
    },
    "b92315e9dbf948ddafd2bad16a143c4f": {
     "views": [
      {
       "cell_index": 18
      }
     ]
    },
    "b999f59edac34e0f84d7f23199984977": {
     "views": [
      {
       "cell_index": 18
      }
     ]
    },
    "bcf53804b3f1479e9ab6c570e1992d49": {
     "views": [
      {
       "cell_index": 18
      }
     ]
    },
    "bdc6fae31fe4461b9f9dc3a259de5733": {
     "views": [
      {
       "cell_index": 20
      }
     ]
    },
    "bdd8de5b3ea145b98ba368d4f140fd0c": {
     "views": [
      {
       "cell_index": 20
      }
     ]
    },
    "bff3de42c45b4320a8906f075ec318bb": {
     "views": [
      {
       "cell_index": 20
      }
     ]
    },
    "c2890b3530054ef388dd8ae5cf875b4e": {
     "views": [
      {
       "cell_index": 18
      }
     ]
    },
    "c3e579ae4037404e8c11bf19e4aca0a2": {
     "views": [
      {
       "cell_index": 18
      }
     ]
    },
    "c44bf15aa9984dae92fcd4e3de05920d": {
     "views": [
      {
       "cell_index": 20
      }
     ]
    },
    "c508a20025d346788aff908665e50364": {
     "views": [
      {
       "cell_index": 18
      }
     ]
    },
    "c62b129195054fa5ac7cf80e63d2b6b9": {
     "views": [
      {
       "cell_index": 18
      }
     ]
    },
    "c78f09c35f814afda0721cad7f6f58d3": {
     "views": [
      {
       "cell_index": 20
      }
     ]
    },
    "c795d5ff473249aabf42440a80f9f4e2": {
     "views": [
      {
       "cell_index": 18
      }
     ]
    },
    "c7c33c1fcc0044bba6c0aa4e0d452449": {
     "views": [
      {
       "cell_index": 18
      }
     ]
    },
    "c939aa04ccb440cba34b4fd5984bcb6c": {
     "views": [
      {
       "cell_index": 20
      }
     ]
    },
    "ca4b1f8577aa4fec8ef8b71c4b64f510": {
     "views": [
      {
       "cell_index": 20
      }
     ]
    },
    "cab4623ecf254279a5a6e4fd5e584112": {
     "views": [
      {
       "cell_index": 18
      }
     ]
    },
    "cb0fe36f528b43bebd1d639952ebea08": {
     "views": [
      {
       "cell_index": 18
      }
     ]
    },
    "cc62f9fe3f2c445c87efeda818b7d89c": {
     "views": [
      {
       "cell_index": 18
      }
     ]
    },
    "ce64e664d916472d993b0bd83250dbb9": {
     "views": [
      {
       "cell_index": 18
      }
     ]
    },
    "d0d279d2024447509fc4fcb37145f576": {
     "views": [
      {
       "cell_index": 18
      }
     ]
    },
    "d11038495cc84174bdf1b0ee70ae10a4": {
     "views": [
      {
       "cell_index": 18
      }
     ]
    },
    "d1f98ad8b31b4d72a66f84c869596484": {
     "views": [
      {
       "cell_index": 18
      }
     ]
    },
    "d2a16b12ceab404296d8e973a7fa49cf": {
     "views": [
      {
       "cell_index": 20
      }
     ]
    },
    "d324ec771b134dcaa29531242d8d88d5": {
     "views": [
      {
       "cell_index": 20
      }
     ]
    },
    "d3729e4dda1d4fb195dcddc6e794fe19": {
     "views": [
      {
       "cell_index": 20
      }
     ]
    },
    "d3b1256286ab4327aba5b772f0a67b5e": {
     "views": [
      {
       "cell_index": 20
      }
     ]
    },
    "d4e21bd003f5478ea4d07752299cbc95": {
     "views": [
      {
       "cell_index": 20
      }
     ]
    },
    "d603ab9e72af4ec389d12321fe7c6744": {
     "views": [
      {
       "cell_index": 20
      }
     ]
    },
    "d64df0eb6e3241ef85dbd0dd305afa18": {
     "views": [
      {
       "cell_index": 18
      }
     ]
    },
    "d8a1dfd743dc4424b835532bcffafde6": {
     "views": [
      {
       "cell_index": 18
      }
     ]
    },
    "d9382ab05e4943e9a838356240755603": {
     "views": [
      {
       "cell_index": 20
      }
     ]
    },
    "db17c28d671e48989031b28ee086bc11": {
     "views": [
      {
       "cell_index": 20
      }
     ]
    },
    "dc4b8a30d1804193993718b552ae47f3": {
     "views": [
      {
       "cell_index": 20
      }
     ]
    },
    "dd0365f1e3eb457ea7decaa87a595f57": {
     "views": [
      {
       "cell_index": 20
      }
     ]
    },
    "dd590a9ee0c74979835bfaac63665799": {
     "views": [
      {
       "cell_index": 18
      }
     ]
    },
    "dd615c8943d74bd2bb9530fdc84d6f33": {
     "views": [
      {
       "cell_index": 20
      }
     ]
    },
    "dda7ed64320a44ebab2bc1c4540f033b": {
     "views": [
      {
       "cell_index": 18
      }
     ]
    },
    "df6087d8f69345cab0a4df0248f76455": {
     "views": [
      {
       "cell_index": 20
      }
     ]
    },
    "df7d6ab29dc0406484ba7524bf8911c2": {
     "views": [
      {
       "cell_index": 20
      }
     ]
    },
    "df924e91b7aa499c8f57f02a9a39c04e": {
     "views": [
      {
       "cell_index": 20
      }
     ]
    },
    "e0798f57335142c990ba74d7de7a7d33": {
     "views": [
      {
       "cell_index": 20
      }
     ]
    },
    "e12d8835484b4619b8d36c1002521dc8": {
     "views": [
      {
       "cell_index": 18
      }
     ]
    },
    "e2343c1e7dbc408e9fbacadaec025b33": {
     "views": [
      {
       "cell_index": 20
      }
     ]
    },
    "e28b89d0444e445f9e545ae3e5f911f4": {
     "views": [
      {
       "cell_index": 20
      }
     ]
    },
    "e2a6cb27340248d589455fc53828dc78": {
     "views": [
      {
       "cell_index": 20
      }
     ]
    },
    "e3412997ebfd42e9b1ff1f8f587e36c3": {
     "views": [
      {
       "cell_index": 18
      }
     ]
    },
    "e379493019c043f2a1b0bd42369c8fd2": {
     "views": [
      {
       "cell_index": 18
      }
     ]
    },
    "e545c9ef150242ab8933c9c4eec40238": {
     "views": [
      {
       "cell_index": 20
      }
     ]
    },
    "e5fe5aee97a14015ae0725e758e7cf31": {
     "views": [
      {
       "cell_index": 20
      }
     ]
    },
    "e77ea54790ce46d381c19dc38bcdcb55": {
     "views": [
      {
       "cell_index": 18
      }
     ]
    },
    "e7c7aaaa89314b88b1770b2aaa86392b": {
     "views": [
      {
       "cell_index": 18
      }
     ]
    },
    "e82f675880654595b1679f2350af1df6": {
     "views": [
      {
       "cell_index": 18
      }
     ]
    },
    "e8ee2b775ef14b03b5d27b04852d114d": {
     "views": [
      {
       "cell_index": 18
      }
     ]
    },
    "e9702e35366b476fb451cb999daa960d": {
     "views": [
      {
       "cell_index": 18
      }
     ]
    },
    "eb3259e96c8248299e8fab6348a7f9f0": {
     "views": [
      {
       "cell_index": 20
      }
     ]
    },
    "eed6724394d44f899c11edea1036d6e7": {
     "views": [
      {
       "cell_index": 20
      }
     ]
    },
    "f05c2a9197be4d408d0796b7457ede62": {
     "views": [
      {
       "cell_index": 20
      }
     ]
    },
    "f207ed3bdf1849fb8ddbd960a3514332": {
     "views": [
      {
       "cell_index": 18
      }
     ]
    },
    "f27d194b06314791b575dbf31af16cde": {
     "views": [
      {
       "cell_index": 20
      }
     ]
    },
    "f287ae1e3d1c4ed38857c69e461c2061": {
     "views": [
      {
       "cell_index": 20
      }
     ]
    },
    "f2da8c41263347ebb5fea0ee00c81dae": {
     "views": [
      {
       "cell_index": 20
      }
     ]
    },
    "f4406c6b5a8447cf8efe253edab76522": {
     "views": [
      {
       "cell_index": 20
      }
     ]
    },
    "f448f3bff70b4515a712546ea53df42b": {
     "views": [
      {
       "cell_index": 20
      }
     ]
    },
    "f47aa4b990344c128e20c401acd580a4": {
     "views": [
      {
       "cell_index": 20
      }
     ]
    },
    "f4bc948f22cd4b20851d4ab1f4c227f1": {
     "views": [
      {
       "cell_index": 18
      }
     ]
    },
    "f583bb677afa45ecaa5c64e821fb6d25": {
     "views": [
      {
       "cell_index": 18
      }
     ]
    },
    "f58e65eee3f046cab4a120226c05cc67": {
     "views": [
      {
       "cell_index": 18
      }
     ]
    },
    "f6db01c8fd1947bea22743859e5ed577": {
     "views": [
      {
       "cell_index": 18
      }
     ]
    },
    "f6ff5f5adf404458bd441e8c152868c5": {
     "views": [
      {
       "cell_index": 18
      }
     ]
    },
    "f90de81a8db34ee9bac82f7a1c155b5c": {
     "views": [
      {
       "cell_index": 20
      }
     ]
    },
    "fa34b631cd4441039a955b7912750e32": {
     "views": [
      {
       "cell_index": 18
      }
     ]
    },
    "fad05ca9ad734fc2a9006aabd6904679": {
     "views": [
      {
       "cell_index": 20
      }
     ]
    },
    "fd30502812d743c8a230aa36cf90b658": {
     "views": [
      {
       "cell_index": 20
      }
     ]
    }
   },
   "version": "1.2.0"
  }
 },
 "nbformat": 4,
 "nbformat_minor": 2
}
