{
 "cells": [
  {
   "cell_type": "markdown",
   "metadata": {},
   "source": [
    "# CNN model\n",
    "\n",
    "This notebook trains a convolutional layer over the input probability distributions."
   ]
  },
  {
   "cell_type": "code",
   "execution_count": 1,
   "metadata": {},
   "outputs": [],
   "source": [
    "%load_ext autoreload\n",
    "%autoreload 2\n",
    "%matplotlib inline\n",
    "\n",
    "import numpy as np\n",
    "np.random.seed(1234)\n",
    "\n",
    "import sys\n",
    "sys.path.append(\"../src\")"
   ]
  },
  {
   "cell_type": "code",
   "execution_count": null,
   "metadata": {},
   "outputs": [],
   "source": [
    "import matplotlib.pyplot as plt\n",
    "import pandas as pd\n",
    "import utils.data as udata\n",
    "import utils.dists as udists\n",
    "import utils.misc as u\n",
    "import os\n",
    "import losses\n",
    "import yaml\n",
    "\n",
    "from functools import partial\n",
    "from jrun import jin\n",
    "from tqdm import tqdm\n",
    "from keras.layers import (Activation, Convolution1D, Convolution2D, Dense,\n",
    "                          Dropout, Embedding, Flatten, Merge, Input)\n",
    "from keras.layers.merge import Concatenate, concatenate\n",
    "from keras.regularizers import l2\n",
    "from keras.models import Sequential, Model\n",
    "from keras.callbacks import EarlyStopping\n",
    "import keras.backend as K"
   ]
  },
  {
   "cell_type": "markdown",
   "metadata": {},
   "source": [
    "## Setup notebook parameters"
   ]
  },
  {
   "cell_type": "code",
   "execution_count": 3,
   "metadata": {},
   "outputs": [],
   "source": [
    "EXP_NAME = \"collaborative\"\n",
    "data_dir = \"../data\"\n",
    "exp_dir = os.path.join(data_dir, \"processed\", EXP_NAME)\n",
    "\n",
    "with open(\"../config.yaml\") as fp:\n",
    "    CONFIG = yaml.load(fp)\n",
    "    \n",
    "TEST_SPLIT_THRESH = CONFIG[\"TEST_SPLIT_THRESH\"][EXP_NAME]\n",
    "\n",
    "COMPONENTS = [udata.Component(exp_dir, name) for name in u.available_models(exp_dir)]\n",
    "ACTUAL_DL = udata.ActualDataLoader(data_dir)\n",
    "\n",
    "REGIONS = [\"nat\", *[f\"hhs{i}\" for i in range(1, 11)], None]\n",
    "TARGETS = [udata.Target(t) for t in [1, 2, 3, 4, \"peak\", \"peak_wk\", \"onset_wk\"]]"
   ]
  },
  {
   "cell_type": "markdown",
   "metadata": {},
   "source": [
    "### Data split\n",
    "\n",
    "We need to take the common row entries (common \"epiweek\", \"region\") for each data item, i.e. actual data and component data."
   ]
  },
  {
   "cell_type": "code",
   "execution_count": 4,
   "metadata": {},
   "outputs": [],
   "source": [
    "target = TARGETS[0]\n",
    "\n",
    "y_train, Xs_train, yi_train = target.get_training_data(\n",
    "    ACTUAL_DL, COMPONENTS, None, TEST_SPLIT_THRESH\n",
    ")"
   ]
  },
  {
   "cell_type": "markdown",
   "metadata": {},
   "source": [
    "### Creating input matrices for model"
   ]
  },
  {
   "cell_type": "code",
   "execution_count": 5,
   "metadata": {},
   "outputs": [],
   "source": [
    "X_train = udists.get_2d_features(Xs_train)\n",
    "y_one_hot_train = udists.actual_to_one_hot(y_train, bins=target.bins)"
   ]
  },
  {
   "cell_type": "markdown",
   "metadata": {},
   "source": [
    "## Model"
   ]
  },
  {
   "cell_type": "code",
   "execution_count": 24,
   "metadata": {},
   "outputs": [],
   "source": [
    "def conv1D_distribution(n_components, n_bins):\n",
    "    \"\"\"\n",
    "    One dimensional conv model over input distribution to give an output\n",
    "    distribution\n",
    "\n",
    "    Parameters\n",
    "    ----------\n",
    "    n_components : int\n",
    "        Number of component distributions\n",
    "    n_bins : int\n",
    "        Number of bins in the prediction distribution\n",
    "    \"\"\"\n",
    "\n",
    "    dist_input = Input(shape=(n_bins, n_components))\n",
    "    \n",
    "    if n_bins < 50:\n",
    "        dist_x = Convolution1D(32, 5, padding=\"same\")(dist_input)\n",
    "        dist_x = Convolution1D(10, 3, padding=\"same\")(dist_x)\n",
    "    else:\n",
    "        dist_x = Convolution1D(10, 3, padding=\"same\")(dist_input)\n",
    "        dist_x = Convolution1D(10, 3, padding=\"same\")(dist_x)\n",
    "\n",
    "    dist_x = Flatten()(dist_x)\n",
    "    dist_x = Dense(10, activation=\"tanh\")(dist_x)\n",
    "    dist_x = Dense(n_bins, activation=\"softmax\")(dist_x)\n",
    "    \n",
    "    model = Model(inputs=dist_input, outputs=dist_x)\n",
    "\n",
    "    return model"
   ]
  },
  {
   "cell_type": "markdown",
   "metadata": {},
   "source": [
    "### Training"
   ]
  },
  {
   "cell_type": "code",
   "execution_count": 25,
   "metadata": {},
   "outputs": [],
   "source": [
    "# model generator\n",
    "def gen_model():\n",
    "    return conv1D_distribution(X_train.shape[-1], X_train.shape[1])\n",
    "\n",
    "def train_model(\n",
    "    model, train_data, val_data,\n",
    "    batch_size=64, epochs=100,\n",
    "    verbose=0\n",
    "):\n",
    "    model.compile(optimizer=\"rmsprop\", loss=\"categorical_crossentropy\")\n",
    "\n",
    "    if val_data is not None:\n",
    "        callbacks = [EarlyStopping(monitor=\"val_loss\", patience=2, mode=\"auto\")]\n",
    "    else:\n",
    "        callbacks = []\n",
    "\n",
    "    history = model.fit(train_data[0],\n",
    "                        train_data[1],\n",
    "                        batch_size=batch_size, epochs=epochs,\n",
    "                        verbose=verbose,\n",
    "                        callbacks=callbacks,\n",
    "                        validation_data=val_data,\n",
    "                        shuffle=False)\n",
    "    return history"
   ]
  },
  {
   "cell_type": "code",
   "execution_count": 26,
   "metadata": {
    "scrolled": false
   },
   "outputs": [
    {
     "name": "stderr",
     "output_type": "stream",
     "text": [
      "100%|██████████| 5/5 [00:37<00:00,  8.41s/it]\n"
     ]
    },
    {
     "data": {
      "text/html": [
       "<div>\n",
       "<style>\n",
       "    .dataframe thead tr:only-child th {\n",
       "        text-align: right;\n",
       "    }\n",
       "\n",
       "    .dataframe thead th {\n",
       "        text-align: left;\n",
       "    }\n",
       "\n",
       "    .dataframe tbody tr th {\n",
       "        vertical-align: top;\n",
       "    }\n",
       "</style>\n",
       "<table border=\"1\" class=\"dataframe\">\n",
       "  <thead>\n",
       "    <tr style=\"text-align: right;\">\n",
       "      <th></th>\n",
       "      <th>epochs</th>\n",
       "      <th>train_loss</th>\n",
       "      <th>val_loss</th>\n",
       "    </tr>\n",
       "  </thead>\n",
       "  <tbody>\n",
       "    <tr>\n",
       "      <th>it-1</th>\n",
       "      <td>9.0</td>\n",
       "      <td>1.802640</td>\n",
       "      <td>3.245632</td>\n",
       "    </tr>\n",
       "    <tr>\n",
       "      <th>it-2</th>\n",
       "      <td>4.0</td>\n",
       "      <td>2.394963</td>\n",
       "      <td>3.886374</td>\n",
       "    </tr>\n",
       "    <tr>\n",
       "      <th>it-3</th>\n",
       "      <td>24.0</td>\n",
       "      <td>1.434624</td>\n",
       "      <td>2.572336</td>\n",
       "    </tr>\n",
       "    <tr>\n",
       "      <th>it-4</th>\n",
       "      <td>58.0</td>\n",
       "      <td>1.018666</td>\n",
       "      <td>2.095170</td>\n",
       "    </tr>\n",
       "    <tr>\n",
       "      <th>it-5</th>\n",
       "      <td>46.0</td>\n",
       "      <td>1.084506</td>\n",
       "      <td>2.348079</td>\n",
       "    </tr>\n",
       "    <tr>\n",
       "      <th>mean (median for epochs)</th>\n",
       "      <td>24.0</td>\n",
       "      <td>1.547080</td>\n",
       "      <td>2.829518</td>\n",
       "    </tr>\n",
       "  </tbody>\n",
       "</table>\n",
       "</div>"
      ],
      "text/plain": [
       "                          epochs  train_loss  val_loss\n",
       "it-1                         9.0    1.802640  3.245632\n",
       "it-2                         4.0    2.394963  3.886374\n",
       "it-3                        24.0    1.434624  2.572336\n",
       "it-4                        58.0    1.018666  2.095170\n",
       "it-5                        46.0    1.084506  2.348079\n",
       "mean (median for epochs)    24.0    1.547080  2.829518"
      ]
     },
     "execution_count": 26,
     "metadata": {},
     "output_type": "execute_result"
    },
    {
     "data": {
      "image/png": "[encoded data removed]",
      "text/plain": [
       "<matplotlib.figure.Figure at 0x7fc7e5dd9208>"
      ]
     },
     "metadata": {},
     "output_type": "display_data"
    }
   ],
   "source": [
    "cv_metadata = u.cv_train_loso(\n",
    "    gen_model, train_model,\n",
    "    X_train, y_one_hot_train, yi_train\n",
    ")\n",
    "u.cv_plot(cv_metadata)\n",
    "cv_report = u.cv_report(cv_metadata)\n",
    "cv_report"
   ]
  },
  {
   "cell_type": "markdown",
   "metadata": {},
   "source": [
    "### Final model training"
   ]
  },
  {
   "cell_type": "code",
   "execution_count": 19,
   "metadata": {},
   "outputs": [
    {
     "data": {
      "text/plain": [
       "1.4319450900544952"
      ]
     },
     "execution_count": 19,
     "metadata": {},
     "output_type": "execute_result"
    },
    {
     "data": {
      "image/png": "[encoded data removed]",
      "text/plain": [
       "<matplotlib.figure.Figure at 0x7fc7e21c8cf8>"
      ]
     },
     "metadata": {},
     "output_type": "display_data"
    }
   ],
   "source": [
    "model = gen_model()\n",
    "final_epochs = int(cv_report[\"epochs\"][-1])\n",
    "final_history = train_model(\n",
    "    model,\n",
    "    [X_train, y_one_hot_train],\n",
    "    None, epochs=final_epochs)\n",
    "final_loss = final_history.history[\"loss\"][-1]\n",
    "plt.plot(final_history.history[\"loss\"])\n",
    "final_loss"
   ]
  },
  {
   "cell_type": "markdown",
   "metadata": {},
   "source": [
    "### Evaluation"
   ]
  },
  {
   "cell_type": "code",
   "execution_count": 20,
   "metadata": {
    "scrolled": false
   },
   "outputs": [
    {
     "name": "stderr",
     "output_type": "stream",
     "text": [
      "100%|██████████| 12/12 [00:51<00:00,  4.24s/it]\n"
     ]
    },
    {
     "data": {
      "text/html": [
       "<div>\n",
       "<style>\n",
       "    .dataframe thead tr:only-child th {\n",
       "        text-align: right;\n",
       "    }\n",
       "\n",
       "    .dataframe thead th {\n",
       "        text-align: left;\n",
       "    }\n",
       "\n",
       "    .dataframe tbody tr th {\n",
       "        vertical-align: top;\n",
       "    }\n",
       "</style>\n",
       "<table border=\"1\" class=\"dataframe\">\n",
       "  <thead>\n",
       "    <tr style=\"text-align: right;\">\n",
       "      <th></th>\n",
       "      <th>region</th>\n",
       "      <th>score</th>\n",
       "    </tr>\n",
       "  </thead>\n",
       "  <tbody>\n",
       "    <tr>\n",
       "      <th>0</th>\n",
       "      <td>nat</td>\n",
       "      <td>1.291825859202552</td>\n",
       "    </tr>\n",
       "    <tr>\n",
       "      <th>1</th>\n",
       "      <td>hhs1</td>\n",
       "      <td>1.6614181626703322</td>\n",
       "    </tr>\n",
       "    <tr>\n",
       "      <th>2</th>\n",
       "      <td>hhs2</td>\n",
       "      <td>2.582823076506251</td>\n",
       "    </tr>\n",
       "    <tr>\n",
       "      <th>3</th>\n",
       "      <td>hhs3</td>\n",
       "      <td>0.873267424168046</td>\n",
       "    </tr>\n",
       "    <tr>\n",
       "      <th>4</th>\n",
       "      <td>hhs4</td>\n",
       "      <td>2.6197902904343358</td>\n",
       "    </tr>\n",
       "    <tr>\n",
       "      <th>5</th>\n",
       "      <td>hhs5</td>\n",
       "      <td>2.834301895087527</td>\n",
       "    </tr>\n",
       "    <tr>\n",
       "      <th>6</th>\n",
       "      <td>hhs6</td>\n",
       "      <td>1.049087095813653</td>\n",
       "    </tr>\n",
       "    <tr>\n",
       "      <th>7</th>\n",
       "      <td>hhs7</td>\n",
       "      <td>2.977002355855765</td>\n",
       "    </tr>\n",
       "    <tr>\n",
       "      <th>8</th>\n",
       "      <td>hhs8</td>\n",
       "      <td>1.4215688533389692</td>\n",
       "    </tr>\n",
       "    <tr>\n",
       "      <th>9</th>\n",
       "      <td>hhs9</td>\n",
       "      <td>1.2455938267953617</td>\n",
       "    </tr>\n",
       "    <tr>\n",
       "      <th>10</th>\n",
       "      <td>hhs10</td>\n",
       "      <td>1.9874256738682383</td>\n",
       "    </tr>\n",
       "    <tr>\n",
       "      <th>11</th>\n",
       "      <td>all</td>\n",
       "      <td>1.8676458648855483</td>\n",
       "    </tr>\n",
       "  </tbody>\n",
       "</table>\n",
       "</div>"
      ],
      "text/plain": [
       "   region               score\n",
       "0     nat   1.291825859202552\n",
       "1    hhs1  1.6614181626703322\n",
       "2    hhs2   2.582823076506251\n",
       "3    hhs3   0.873267424168046\n",
       "4    hhs4  2.6197902904343358\n",
       "5    hhs5   2.834301895087527\n",
       "6    hhs6   1.049087095813653\n",
       "7    hhs7   2.977002355855765\n",
       "8    hhs8  1.4215688533389692\n",
       "9    hhs9  1.2455938267953617\n",
       "10  hhs10  1.9874256738682383\n",
       "11    all  1.8676458648855483"
      ]
     },
     "execution_count": 20,
     "metadata": {},
     "output_type": "execute_result"
    }
   ],
   "source": [
    "eval_df = {\n",
    "    \"region\": [],\n",
    "    \"score\": []\n",
    "}\n",
    "\n",
    "for region in tqdm(REGIONS):\n",
    "    y_test, Xs_test, yi_test = target.get_testing_data(\n",
    "        ACTUAL_DL, COMPONENTS, region, TEST_SPLIT_THRESH\n",
    "    )\n",
    "    \n",
    "    X_test = udists.get_2d_features(Xs_test)\n",
    "    output = model.predict(X_test)\n",
    "    y_one_hot = udists.actual_to_one_hot(y_test, bins=target.bins)\n",
    "    \n",
    "    eval_df[\"region\"].append(region if region is not None else \"all\")\n",
    "    eval_df[\"score\"].append(losses.mean_cat_cross(y_one_hot, output))\n",
    "\n",
    "eval_df = pd.DataFrame(eval_df)\n",
    "\n",
    "# Save results\n",
    "output_dir = u.ensure_dir(f\"../results/{EXP_NAME}/{target.name}\")\n",
    "u.save_exp_summary(model, cv_report, {\n",
    "    \"loss\": final_loss,\n",
    "    \"epochs\": final_epochs    \n",
    "}, f\"{output_dir}/cnn_summary.txt\")\n",
    "eval_df.to_csv(f\"{output_dir}/cnn.csv\", index=False)\n",
    "eval_df"
   ]
  },
  {
   "cell_type": "code",
   "execution_count": null,
   "metadata": {},
   "outputs": [],
   "source": []
  }
 ],
 "metadata": {
  "kernelspec": {
   "display_name": "Python 3",
   "language": "python",
   "name": "python3"
  },
  "language_info": {
   "codemirror_mode": {
    "name": "ipython",
    "version": 3
   },
   "file_extension": ".py",
   "mimetype": "text/x-python",
   "name": "python",
   "nbconvert_exporter": "python",
   "pygments_lexer": "ipython3",
   "version": "3.6.3"
  }
 },
 "nbformat": 4,
 "nbformat_minor": 2
}
