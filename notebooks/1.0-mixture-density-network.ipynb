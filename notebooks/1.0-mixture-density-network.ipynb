{
 "cells": [
  {
   "cell_type": "markdown",
   "metadata": {},
   "source": [
    "# Mixture Density Network\n",
    "\n",
    "This notebook trains a simple gaussian mixture density network from basic statistics of the predictive distributions coming from the component models."
   ]
  },
  {
   "cell_type": "code",
   "execution_count": 1,
   "metadata": {},
   "outputs": [],
   "source": [
    "%load_ext autoreload\n",
    "%autoreload 2\n",
    "%matplotlib inline\n",
    "\n",
    "import numpy as np\n",
    "np.random.seed(1234)\n",
    "\n",
    "import sys\n",
    "sys.path.append(\"../src\")"
   ]
  },
  {
   "cell_type": "code",
   "execution_count": null,
   "metadata": {},
   "outputs": [],
   "source": [
    "import matplotlib.pyplot as plt\n",
    "import pandas as pd\n",
    "import utils.data as udata\n",
    "import utils.dists as udists\n",
    "import utils.misc as u\n",
    "import os\n",
    "import losses\n",
    "import yaml\n",
    "\n",
    "from functools import partial\n",
    "from jrun import jin\n",
    "from tqdm import tqdm\n",
    "from keras.layers import (Activation, Dense, Dropout, Embedding, Flatten, Merge, Reshape)\n",
    "from keras.models import Sequential\n",
    "from keras.callbacks import EarlyStopping\n",
    "import keras.backend as K"
   ]
  },
  {
   "cell_type": "markdown",
   "metadata": {},
   "source": [
    "## Setup notebook parameters"
   ]
  },
  {
   "cell_type": "code",
   "execution_count": 3,
   "metadata": {},
   "outputs": [],
   "source": [
    "EXP_NAME = \"collaborative\"\n",
    "data_dir = \"../data\"\n",
    "exp_dir = os.path.join(data_dir, \"processed\", EXP_NAME)\n",
    "\n",
    "with open(\"../config.yaml\") as fp:\n",
    "    CONFIG = yaml.load(fp)\n",
    "    \n",
    "TEST_SPLIT_THRESH = CONFIG[\"TEST_SPLIT_THRESH\"][EXP_NAME]\n",
    "\n",
    "COMPONENTS = [udata.Component(exp_dir, name) for name in u.available_models(exp_dir)]\n",
    "ACTUAL_DL = udata.ActualDataLoader(data_dir)\n",
    "\n",
    "REGIONS = [\"nat\", *[f\"hhs{i}\" for i in range(1, 11)], None]\n",
    "TARGETS = [udata.Target(t) for t in [1, 2, 3, 4, \"peak\", \"peak_wk\", \"onset_wk\"]]"
   ]
  },
  {
   "cell_type": "markdown",
   "metadata": {},
   "source": [
    "### Data split\n",
    "\n",
    "We need to take the common row entries (common \"epiweek\", \"region\") for each data item, i.e. actual data and component data."
   ]
  },
  {
   "cell_type": "code",
   "execution_count": 4,
   "metadata": {},
   "outputs": [],
   "source": [
    "target = TARGETS[0]\n",
    "\n",
    "y_train, Xs_train, yi_train = target.get_training_data(\n",
    "    ACTUAL_DL, COMPONENTS, None, TEST_SPLIT_THRESH\n",
    ")"
   ]
  },
  {
   "cell_type": "markdown",
   "metadata": {},
   "source": [
    "### Extracting statistical features from the distributions\n",
    "\n",
    "We are just using the mean and std of distributions and concatenating to a single vector as input to the model.\n",
    "\n",
    "*X* refers to combined features from all the models."
   ]
  },
  {
   "cell_type": "code",
   "execution_count": 5,
   "metadata": {},
   "outputs": [],
   "source": [
    "X_train = udists.get_merged_features(\n",
    "    Xs_train, \n",
    "    [partial(udists.dist_mean, bins=target.bins),\n",
    "     partial(udists.dist_std, bins=target.bins)]\n",
    ")"
   ]
  },
  {
   "cell_type": "markdown",
   "metadata": {},
   "source": [
    "## Model\n",
    "\n",
    "The model is a simple mixture density network which returns a set of parameters which are then used in the loss function to get the negative log score for optimization"
   ]
  },
  {
   "cell_type": "code",
   "execution_count": 6,
   "metadata": {},
   "outputs": [],
   "source": [
    "def mdn(n_input, n_mix):\n",
    "    \"\"\"\n",
    "    Return a mixture density model with given number of mixtures (gaussians)\n",
    "    \"\"\"\n",
    "    \n",
    "    model = Sequential()\n",
    "    model.add(Dense(20, input_shape=(n_input,)))\n",
    "    model.add(Activation(\"relu\"))\n",
    "    model.add(Dense(10))\n",
    "    model.add(Activation(\"relu\"))\n",
    "    model.add(Dense(5))\n",
    "    model.add(Activation(\"relu\"))\n",
    "    \n",
    "    # Return 3 parameters, mu, sigma and mixture weight\n",
    "    model.add(Dense(n_mix * 3))\n",
    "    \n",
    "    return model"
   ]
  },
  {
   "cell_type": "code",
   "execution_count": 7,
   "metadata": {},
   "outputs": [],
   "source": [
    "N_MIX = 2\n",
    "loss_fn = partial(losses.mdn_loss, n_mix=N_MIX)\n",
    "loss_fn.__name__ = \"mdn_loss\" # Keras needs a name for function"
   ]
  },
  {
   "cell_type": "markdown",
   "metadata": {},
   "source": [
    "### Training"
   ]
  },
  {
   "cell_type": "code",
   "execution_count": 8,
   "metadata": {},
   "outputs": [],
   "source": [
    "# model generator\n",
    "def gen_model():\n",
    "    return mdn(X_train.shape[1], N_MIX)\n",
    "\n",
    "def train_model(\n",
    "    model, train_data, val_data,\n",
    "    batch_size=16, epochs=100\n",
    "):\n",
    "    model.compile(optimizer=\"rmsprop\", loss=loss_fn)\n",
    "\n",
    "    if val_data is not None:\n",
    "        callbacks = [EarlyStopping(monitor=\"val_loss\", patience=4, mode=\"auto\")]\n",
    "    else:\n",
    "        callbacks = []\n",
    "\n",
    "    history = model.fit(train_data[0],\n",
    "                        train_data[1],\n",
    "                        batch_size=batch_size, epochs=epochs,\n",
    "                        verbose=0,\n",
    "                        callbacks=callbacks,\n",
    "                        validation_data=val_data,\n",
    "                        shuffle=False)\n",
    "    return history"
   ]
  },
  {
   "cell_type": "code",
   "execution_count": 9,
   "metadata": {
    "scrolled": false
   },
   "outputs": [
    {
     "name": "stderr",
     "output_type": "stream",
     "text": [
      "  0%|          | 0/5 [00:00<?, ?it/s]WARNING (theano.configdefaults): install mkl with `conda install mkl-service`: No module named 'mkl'\n",
      "100%|██████████| 5/5 [00:16<00:00,  3.23s/it]\n"
     ]
    },
    {
     "data": {
      "text/html": [
       "<div>\n",
       "<style>\n",
       "    .dataframe thead tr:only-child th {\n",
       "        text-align: right;\n",
       "    }\n",
       "\n",
       "    .dataframe thead th {\n",
       "        text-align: left;\n",
       "    }\n",
       "\n",
       "    .dataframe tbody tr th {\n",
       "        vertical-align: top;\n",
       "    }\n",
       "</style>\n",
       "<table border=\"1\" class=\"dataframe\">\n",
       "  <thead>\n",
       "    <tr style=\"text-align: right;\">\n",
       "      <th></th>\n",
       "      <th>epochs</th>\n",
       "      <th>train_loss</th>\n",
       "      <th>val_loss</th>\n",
       "    </tr>\n",
       "  </thead>\n",
       "  <tbody>\n",
       "    <tr>\n",
       "      <th>it-1</th>\n",
       "      <td>28.0</td>\n",
       "      <td>0.106159</td>\n",
       "      <td>0.308902</td>\n",
       "    </tr>\n",
       "    <tr>\n",
       "      <th>it-2</th>\n",
       "      <td>48.0</td>\n",
       "      <td>0.166577</td>\n",
       "      <td>0.042143</td>\n",
       "    </tr>\n",
       "    <tr>\n",
       "      <th>it-3</th>\n",
       "      <td>15.0</td>\n",
       "      <td>0.279297</td>\n",
       "      <td>0.583744</td>\n",
       "    </tr>\n",
       "    <tr>\n",
       "      <th>it-4</th>\n",
       "      <td>7.0</td>\n",
       "      <td>0.380651</td>\n",
       "      <td>1.229128</td>\n",
       "    </tr>\n",
       "    <tr>\n",
       "      <th>it-5</th>\n",
       "      <td>16.0</td>\n",
       "      <td>0.207475</td>\n",
       "      <td>-0.286249</td>\n",
       "    </tr>\n",
       "    <tr>\n",
       "      <th>mean</th>\n",
       "      <td>22.8</td>\n",
       "      <td>0.228032</td>\n",
       "      <td>0.375534</td>\n",
       "    </tr>\n",
       "  </tbody>\n",
       "</table>\n",
       "</div>"
      ],
      "text/plain": [
       "      epochs  train_loss  val_loss\n",
       "it-1    28.0    0.106159  0.308902\n",
       "it-2    48.0    0.166577  0.042143\n",
       "it-3    15.0    0.279297  0.583744\n",
       "it-4     7.0    0.380651  1.229128\n",
       "it-5    16.0    0.207475 -0.286249\n",
       "mean    22.8    0.228032  0.375534"
      ]
     },
     "execution_count": 9,
     "metadata": {},
     "output_type": "execute_result"
    },
    {
     "data": {
      "image/png": "[encoded data removed]",
      "text/plain": [
       "<matplotlib.figure.Figure at 0x7fb18a4a1198>"
      ]
     },
     "metadata": {},
     "output_type": "display_data"
    }
   ],
   "source": [
    "cv_metadata = u.cv_train_loso(\n",
    "    gen_model, train_model,\n",
    "    X_train, y_train, yi_train\n",
    ")\n",
    "u.cv_plot(cv_metadata)\n",
    "cv_report = u.cv_report(cv_metadata)\n",
    "cv_report"
   ]
  },
  {
   "cell_type": "markdown",
   "metadata": {},
   "source": [
    "### Final model training"
   ]
  },
  {
   "cell_type": "code",
   "execution_count": 10,
   "metadata": {
    "scrolled": true
   },
   "outputs": [
    {
     "data": {
      "text/plain": [
       "0.14113560037384543"
      ]
     },
     "execution_count": 10,
     "metadata": {},
     "output_type": "execute_result"
    },
    {
     "data": {
      "image/png": "[encoded data removed]",
      "text/plain": [
       "<matplotlib.figure.Figure at 0x7fb16a462518>"
      ]
     },
     "metadata": {},
     "output_type": "display_data"
    }
   ],
   "source": [
    "model = gen_model()\n",
    "final_epochs = int(cv_report[\"epochs\"][-1])\n",
    "final_history = train_model(model, (X_train, y_train), None, epochs=final_epochs)\n",
    "final_loss = final_history.history[\"loss\"][-1]\n",
    "plt.plot(final_history.history[\"loss\"])\n",
    "final_loss"
   ]
  },
  {
   "cell_type": "markdown",
   "metadata": {},
   "source": [
    "### Evaluation"
   ]
  },
  {
   "cell_type": "code",
   "execution_count": 11,
   "metadata": {
    "scrolled": false
   },
   "outputs": [
    {
     "name": "stderr",
     "output_type": "stream",
     "text": [
      "100%|██████████| 12/12 [03:24<00:00, 18.52s/it]\n"
     ]
    },
    {
     "data": {
      "text/html": [
       "<div>\n",
       "<style>\n",
       "    .dataframe thead tr:only-child th {\n",
       "        text-align: right;\n",
       "    }\n",
       "\n",
       "    .dataframe thead th {\n",
       "        text-align: left;\n",
       "    }\n",
       "\n",
       "    .dataframe tbody tr th {\n",
       "        vertical-align: top;\n",
       "    }\n",
       "</style>\n",
       "<table border=\"1\" class=\"dataframe\">\n",
       "  <thead>\n",
       "    <tr style=\"text-align: right;\">\n",
       "      <th></th>\n",
       "      <th>region</th>\n",
       "      <th>score</th>\n",
       "    </tr>\n",
       "  </thead>\n",
       "  <tbody>\n",
       "    <tr>\n",
       "      <th>0</th>\n",
       "      <td>nat</td>\n",
       "      <td>2.4556973069503534</td>\n",
       "    </tr>\n",
       "    <tr>\n",
       "      <th>1</th>\n",
       "      <td>hhs1</td>\n",
       "      <td>2.4387069496828873</td>\n",
       "    </tr>\n",
       "    <tr>\n",
       "      <th>2</th>\n",
       "      <td>hhs2</td>\n",
       "      <td>3.112009203261413</td>\n",
       "    </tr>\n",
       "    <tr>\n",
       "      <th>3</th>\n",
       "      <td>hhs3</td>\n",
       "      <td>2.7207441667387164</td>\n",
       "    </tr>\n",
       "    <tr>\n",
       "      <th>4</th>\n",
       "      <td>hhs4</td>\n",
       "      <td>2.73101119728078</td>\n",
       "    </tr>\n",
       "    <tr>\n",
       "      <th>5</th>\n",
       "      <td>hhs5</td>\n",
       "      <td>2.357313780852507</td>\n",
       "    </tr>\n",
       "    <tr>\n",
       "      <th>6</th>\n",
       "      <td>hhs6</td>\n",
       "      <td>3.312869049157152</td>\n",
       "    </tr>\n",
       "    <tr>\n",
       "      <th>7</th>\n",
       "      <td>hhs7</td>\n",
       "      <td>2.484660457881804</td>\n",
       "    </tr>\n",
       "    <tr>\n",
       "      <th>8</th>\n",
       "      <td>hhs8</td>\n",
       "      <td>2.3314431559201516</td>\n",
       "    </tr>\n",
       "    <tr>\n",
       "      <th>9</th>\n",
       "      <td>hhs9</td>\n",
       "      <td>2.7110588677443244</td>\n",
       "    </tr>\n",
       "    <tr>\n",
       "      <th>10</th>\n",
       "      <td>hhs10</td>\n",
       "      <td>2.3186075515650417</td>\n",
       "    </tr>\n",
       "    <tr>\n",
       "      <th>11</th>\n",
       "      <td>all</td>\n",
       "      <td>2.634011062457737</td>\n",
       "    </tr>\n",
       "  </tbody>\n",
       "</table>\n",
       "</div>"
      ],
      "text/plain": [
       "   region               score\n",
       "0     nat  2.4556973069503534\n",
       "1    hhs1  2.4387069496828873\n",
       "2    hhs2   3.112009203261413\n",
       "3    hhs3  2.7207441667387164\n",
       "4    hhs4    2.73101119728078\n",
       "5    hhs5   2.357313780852507\n",
       "6    hhs6   3.312869049157152\n",
       "7    hhs7   2.484660457881804\n",
       "8    hhs8  2.3314431559201516\n",
       "9    hhs9  2.7110588677443244\n",
       "10  hhs10  2.3186075515650417\n",
       "11    all   2.634011062457737"
      ]
     },
     "execution_count": 11,
     "metadata": {},
     "output_type": "execute_result"
    }
   ],
   "source": [
    "eval_df = {\n",
    "    \"region\": [],\n",
    "    \"score\": []\n",
    "}\n",
    "\n",
    "for region in tqdm(REGIONS):\n",
    "    y_test, Xs_test, yi_test = target.get_testing_data(\n",
    "        ACTUAL_DL, COMPONENTS, region, TEST_SPLIT_THRESH\n",
    "    )\n",
    "    \n",
    "    X_test = udists.get_merged_features(\n",
    "        Xs_test, \n",
    "        [partial(udists.dist_mean, bins=target.bins),\n",
    "         partial(udists.dist_std, bins=target.bins)]\n",
    "    )\n",
    "    output = udists.mdn_params_to_dists(model.predict(X_test), bins=target.bins)\n",
    "    y_one_hot = udists.actual_to_one_hot(y_test, bins=target.bins)\n",
    "    \n",
    "    eval_df[\"region\"].append(region if region is not None else \"all\")\n",
    "    eval_df[\"score\"].append(losses.mean_cat_cross(y_one_hot, output))\n",
    "\n",
    "eval_df = pd.DataFrame(eval_df)\n",
    "\n",
    "# Save results\n",
    "output_dir = u.ensure_dir(f\"../results/{EXP_NAME}/{target.name}\")\n",
    "u.save_exp_summary(model, cv_report, {\n",
    "    \"loss\": final_loss,\n",
    "    \"epochs\": final_epochs    \n",
    "}, f\"{output_dir}/mdn_summary.txt\")\n",
    "eval_df.to_csv(f\"{output_dir}/mdn.csv\", index=False)\n",
    "eval_df"
   ]
  },
  {
   "cell_type": "code",
   "execution_count": null,
   "metadata": {},
   "outputs": [],
   "source": []
  }
 ],
 "metadata": {
  "kernelspec": {
   "display_name": "Python 3",
   "language": "python",
   "name": "python3"
  },
  "language_info": {
   "codemirror_mode": {
    "name": "ipython",
    "version": 3
   },
   "file_extension": ".py",
   "mimetype": "text/x-python",
   "name": "python",
   "nbconvert_exporter": "python",
   "pygments_lexer": "ipython3",
   "version": "3.6.3"
  }
 },
 "nbformat": 4,
 "nbformat_minor": 2
}
