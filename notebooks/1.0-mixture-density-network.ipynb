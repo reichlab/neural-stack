{
 "cells": [
  {
   "cell_type": "markdown",
   "metadata": {},
   "source": [
    "# Mixture Density Network\n",
    "\n",
    "This notebook trains a simple gaussian mixture density network from basic statistics of the predictive distributions coming from the component models."
   ]
  },
  {
   "cell_type": "code",
   "execution_count": 92,
   "metadata": {},
   "outputs": [
    {
     "name": "stdout",
     "output_type": "stream",
     "text": [
      "The autoreload extension is already loaded. To reload it, use:\n",
      "  %reload_ext autoreload\n"
     ]
    }
   ],
   "source": [
    "%load_ext autoreload\n",
    "%autoreload 2\n",
    "%matplotlib inline\n",
    "\n",
    "import sys\n",
    "sys.path.append(\"../src\")"
   ]
  },
  {
   "cell_type": "code",
   "execution_count": 169,
   "metadata": {},
   "outputs": [],
   "source": [
    "import matplotlib.pyplot as plt\n",
    "import numpy as np\n",
    "import pandas as pd\n",
    "import data\n",
    "import utils\n",
    "import losses\n",
    "\n",
    "from functools import partial\n",
    "\n",
    "from keras.layers import (Activation, Dense, Dropout, Embedding, Flatten, Merge, Reshape)\n",
    "from keras.models import Sequential\n",
    "from keras.callbacks import EarlyStopping\n",
    "import keras.backend as K\n",
    "from sklearn.model_selection import train_test_split\n",
    "from scipy.stats import norm"
   ]
  },
  {
   "cell_type": "markdown",
   "metadata": {},
   "source": [
    "## Load data"
   ]
  },
  {
   "cell_type": "code",
   "execution_count": 94,
   "metadata": {
    "collapsed": true
   },
   "outputs": [],
   "source": [
    "kcde_dl = data.ComponentDataLoader(\"../data\", \"kcde\")\n",
    "kde_dl = data.ComponentDataLoader(\"../data\", \"kde\")\n",
    "sarima_dl = data.ComponentDataLoader(\"../data\", \"sarima\")\n",
    "\n",
    "actual_dl = data.ActualDataLoader(\"../data\")"
   ]
  },
  {
   "cell_type": "markdown",
   "metadata": {},
   "source": [
    "### Working on week ahead predictions\n",
    "\n",
    "We need to take the common row entries (common \"epiweek\", \"region\") for each data item, i.e. actual data and component data."
   ]
  },
  {
   "cell_type": "code",
   "execution_count": 95,
   "metadata": {},
   "outputs": [],
   "source": [
    "REGION = \"nat\" # Specify None for using all the data\n",
    "WEEK_TARGETS = [\"one_wk\", \"two_wk\", \"three_wk\", \"four_wk\"]\n",
    "WEEK_NUMBER = 1\n",
    "\n",
    "actual_idx, actual_data = actual_dl.get(week_shift=WEEK_NUMBER, region_identifier=REGION)\n",
    "kde_idx, kde_data = kde_dl.get(WEEK_TARGETS[WEEK_NUMBER - 1], region_identifier=REGION)\n",
    "kcde_idx, kcde_data = kcde_dl.get(WEEK_TARGETS[WEEK_NUMBER - 1], region_identifier=REGION)\n",
    "sarima_idx, sarima_data = sarima_dl.get(WEEK_TARGETS[WEEK_NUMBER - 1], region_identifier=REGION)"
   ]
  },
  {
   "cell_type": "code",
   "execution_count": 96,
   "metadata": {
    "collapsed": true
   },
   "outputs": [],
   "source": [
    "actual_filter, kde_filter, kcde_filter, sarima_filter= data.filter_common_indices(actual_idx, kde_idx, kcde_idx, sarima_idx)"
   ]
  },
  {
   "cell_type": "markdown",
   "metadata": {},
   "source": [
    "Creating well formed tensors for input"
   ]
  },
  {
   "cell_type": "code",
   "execution_count": 97,
   "metadata": {
    "collapsed": true
   },
   "outputs": [],
   "source": [
    "y = actual_data[actual_filter]\n",
    "\n",
    "# Skipping the last bin in distributions\n",
    "X_kde = np.exp(kde_data[kde_filter][:, :-1])\n",
    "X_kcde = np.exp(kcde_data[kcde_filter][:, :-1])\n",
    "X_sarima = np.exp(sarima_data[sarima_filter][:, :-1])"
   ]
  },
  {
   "cell_type": "markdown",
   "metadata": {},
   "source": [
    "### Extracting statistical features from the distributions\n",
    "\n",
    "We are just using the mean and std of distributions and concatenating to a single vector as input to the model"
   ]
  },
  {
   "cell_type": "code",
   "execution_count": 98,
   "metadata": {
    "collapsed": true
   },
   "outputs": [],
   "source": [
    "X_mean = np.array([\n",
    "    [utils.dist_mean(dist) for dist in comp_dist]\n",
    "    for comp_dist in [X_kde, X_kcde, X_sarima]\n",
    "]).T\n",
    "X_std = np.array([\n",
    "    [utils.dist_std(dist) for dist in comp_dist]\n",
    "    for comp_dist in [X_kde, X_kcde, X_sarima]\n",
    "]).T"
   ]
  },
  {
   "cell_type": "code",
   "execution_count": 99,
   "metadata": {
    "collapsed": true
   },
   "outputs": [],
   "source": [
    "X = np.concatenate([X_mean, X_std], axis=1)"
   ]
  },
  {
   "cell_type": "code",
   "execution_count": 100,
   "metadata": {
    "collapsed": true
   },
   "outputs": [],
   "source": [
    "X_train, X_test, X_kde_train, X_kde_test, X_kcde_train, X_kcde_test, X_sarima_train, X_sarima_test, y_train, y_test = train_test_split(X, X_kde, X_kcde, X_sarima, y, test_size=0.2, random_state=1234)"
   ]
  },
  {
   "cell_type": "markdown",
   "metadata": {},
   "source": [
    "## Model\n",
    "\n",
    "The model is a simple mixture density network which returns a set of parameters which are then used in the loss function to get the negative log score for optimization"
   ]
  },
  {
   "cell_type": "code",
   "execution_count": 145,
   "metadata": {
    "collapsed": true
   },
   "outputs": [],
   "source": [
    "def mdn(n_input, n_mix):\n",
    "    \"\"\"\n",
    "    Return a mixture density model with given number of mixtures (gaussians)\n",
    "    \"\"\"\n",
    "    \n",
    "    model = Sequential()\n",
    "    model.add(Dense(20, input_shape=(n_input,)))\n",
    "    model.add(Activation(\"relu\"))\n",
    "    model.add(Dense(20))\n",
    "    model.add(Activation(\"relu\"))\n",
    "    model.add(Dense(10))\n",
    "    model.add(Activation(\"relu\"))\n",
    "    \n",
    "    # Return 3 parameters, mu, sigma and mixture weight\n",
    "    model.add(Dense(n_mix * 3))\n",
    "    \n",
    "    return model"
   ]
  },
  {
   "cell_type": "code",
   "execution_count": 223,
   "metadata": {},
   "outputs": [],
   "source": [
    "N_MIX = 2\n",
    "model = mdn(6, N_MIX)\n",
    "loss_fn = partial(losses.mdn_loss, n_mix=N_MIX)\n",
    "loss_fn.__name__ = \"mdn_loss\" # Keras needs a name for function"
   ]
  },
  {
   "cell_type": "code",
   "execution_count": 224,
   "metadata": {},
   "outputs": [],
   "source": [
    "model.compile(optimizer=\"rmsprop\", loss=loss_fn)\n",
    "\n",
    "early_stop = EarlyStopping(monitor=\"val_loss\", patience=4, mode=\"auto\")\n",
    "\n",
    "history = model.fit(X_train,\n",
    "                    y_train,\n",
    "                    batch_size=64, epochs=100,\n",
    "                    verbose=0,\n",
    "                    callbacks=[early_stop],\n",
    "                    validation_split=0.2)"
   ]
  },
  {
   "cell_type": "code",
   "execution_count": 225,
   "metadata": {},
   "outputs": [
    {
     "data": {
      "text/plain": [
       "[<matplotlib.lines.Line2D at 0x7fb23b79e240>]"
      ]
     },
     "execution_count": 225,
     "metadata": {},
     "output_type": "execute_result"
    },
    {
     "data": {
      "image/png": "[encoded data removed]",
      "text/plain": [
       "<matplotlib.figure.Figure at 0x7fb23b79e9b0>"
      ]
     },
     "metadata": {},
     "output_type": "display_data"
    }
   ],
   "source": [
    "plt.plot(history.history[\"loss\"])\n",
    "plt.plot(history.history[\"val_loss\"])"
   ]
  },
  {
   "cell_type": "markdown",
   "metadata": {},
   "source": [
    "### Evaluation"
   ]
  },
  {
   "cell_type": "code",
   "execution_count": 226,
   "metadata": {},
   "outputs": [
    {
     "name": "stdout",
     "output_type": "stream",
     "text": [
      "kde: 3.4951295478817626\n",
      "kcde: 3.031170673911367\n",
      "sarima: 3.0396202942149895\n",
      "ensemble: 2.74724302588436\n"
     ]
    }
   ],
   "source": [
    "y_one_hot = utils.wili_to_dists(y_test)\n",
    "ensemble_dists = utils.mdn_params_to_dists(model.predict(X_test))\n",
    "\n",
    "for name, output in zip(\n",
    "    [\"kde\", \"kcde\", \"sarima\", \"ensemble\"],\n",
    "    [X_kde_test, X_kcde_test, X_sarima_test, ensemble_dists]\n",
    "):\n",
    "    print(f\"{name}: {K.categorical_crossentropy(output, y_one_hot).mean().eval()}\")"
   ]
  },
  {
   "cell_type": "markdown",
   "metadata": {},
   "source": [
    "## Plot random predictions"
   ]
  },
  {
   "cell_type": "code",
   "execution_count": 228,
   "metadata": {},
   "outputs": [],
   "source": [
    "# n_plots = 10\n",
    "# idx = np.random.randint(0, y_test.shape[0], size=n_plots)\n",
    "\n",
    "# kde_out = X_kde_test[idx]\n",
    "# kcde_out = X_kcde_test[idx]\n",
    "# sarima_out = X_sarima_test[idx]\n",
    "# y_out = y[idx]\n",
    "\n",
    "# dist_mean = np.array([\n",
    "#     [utils.dist_mean(dist) for dist in comp_dist]\n",
    "#     for comp_dist in [kde_out, kcde_out, sarima_out]\n",
    "# ]).T\n",
    "# dist_std = np.array([\n",
    "#     [utils.dist_std(dist) for dist in comp_dist]\n",
    "#     for comp_dist in [kde_out, kcde_out, sarima_out]\n",
    "# ]).T\n",
    "\n",
    "# # Prediction from model\n",
    "# model_out = model.predict(np.concatenate([dist_mean, dist_std], axis=1))\n",
    "# ensemble_out = utils.mdn_params_to_dists(model_out)\n",
    "\n",
    "# bins = np.linspace(0, 12.9, 130)\n",
    "\n",
    "# for i in range(n_plots):\n",
    "#     plt.figure(figsize=(14, 6))\n",
    "#     plt.plot(bins, kde_out[i], label=\"kde\")\n",
    "#     plt.plot(bins, kcde_out[i], label=\"kcde\")\n",
    "#     plt.plot(bins, sarima_out[i], label=\"sarima\")\n",
    "#     plt.plot(bins, ensemble_out[i], label=\"ensemble\")\n",
    "    \n",
    "#     # Plot actual line\n",
    "#     plt.axvline(x=y_out[i])\n",
    "    \n",
    "#     plt.legend()"
   ]
  },
  {
   "cell_type": "code",
   "execution_count": null,
   "metadata": {
    "collapsed": true
   },
   "outputs": [],
   "source": []
  }
 ],
 "metadata": {
  "kernelspec": {
   "display_name": "Python 3",
   "language": "python",
   "name": "python3"
  },
  "language_info": {
   "codemirror_mode": {
    "name": "ipython",
    "version": 3
   },
   "file_extension": ".py",
   "mimetype": "text/x-python",
   "name": "python",
   "nbconvert_exporter": "python",
   "pygments_lexer": "ipython3",
   "version": "3.6.1"
  }
 },
 "nbformat": 4,
 "nbformat_minor": 2
}
